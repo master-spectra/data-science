{
 "cells": [
  {
   "cell_type": "markdown",
   "source": [
    "## Шаг 1. Откройте таблицу и изучите общую информацию о данных"
   ],
   "metadata": {
    "collapsed": false
   },
   "id": "77b1303c7cb802cb"
  },
  {
   "cell_type": "code",
   "execution_count": 84,
   "outputs": [
    {
     "data": {
      "text/plain": "   children  days_employed  dob_years education  education_id  \\\n0         1   -8437.673028         42    высшее             0   \n1         1   -4024.803754         36   среднее             1   \n2         0   -5623.422610         33   Среднее             1   \n3         3   -4124.747207         32   среднее             1   \n4         0  340266.072047         53   среднее             1   \n5         0    -926.185831         27    высшее             0   \n6         0   -2879.202052         43    высшее             0   \n7         0    -152.779569         50   СРЕДНЕЕ             1   \n8         2   -6929.865299         35    ВЫСШЕЕ             0   \n9         0   -2188.756445         41   среднее             1   \n\n      family_status  family_status_id gender income_type  debt   total_income  \\\n0   женат / замужем                 0      F   сотрудник     0  253875.639453   \n1   женат / замужем                 0      F   сотрудник     0  112080.014102   \n2   женат / замужем                 0      M   сотрудник     0  145885.952297   \n3   женат / замужем                 0      M   сотрудник     0  267628.550329   \n4  гражданский брак                 1      F   пенсионер     0  158616.077870   \n5  гражданский брак                 1      M   компаньон     0  255763.565419   \n6   женат / замужем                 0      F   компаньон     0  240525.971920   \n7   женат / замужем                 0      M   сотрудник     0  135823.934197   \n8  гражданский брак                 1      F   сотрудник     0   95856.832424   \n9   женат / замужем                 0      M   сотрудник     0  144425.938277   \n\n                      purpose  \n0               покупка жилья  \n1     приобретение автомобиля  \n2               покупка жилья  \n3  дополнительное образование  \n4             сыграть свадьбу  \n5               покупка жилья  \n6           операции с жильем  \n7                 образование  \n8       на проведение свадьбы  \n9     покупка жилья для семьи  ",
      "text/html": "<div>\n<style scoped>\n    .dataframe tbody tr th:only-of-type {\n        vertical-align: middle;\n    }\n\n    .dataframe tbody tr th {\n        vertical-align: top;\n    }\n\n    .dataframe thead th {\n        text-align: right;\n    }\n</style>\n<table border=\"1\" class=\"dataframe\">\n  <thead>\n    <tr style=\"text-align: right;\">\n      <th></th>\n      <th>children</th>\n      <th>days_employed</th>\n      <th>dob_years</th>\n      <th>education</th>\n      <th>education_id</th>\n      <th>family_status</th>\n      <th>family_status_id</th>\n      <th>gender</th>\n      <th>income_type</th>\n      <th>debt</th>\n      <th>total_income</th>\n      <th>purpose</th>\n    </tr>\n  </thead>\n  <tbody>\n    <tr>\n      <th>0</th>\n      <td>1</td>\n      <td>-8437.673028</td>\n      <td>42</td>\n      <td>высшее</td>\n      <td>0</td>\n      <td>женат / замужем</td>\n      <td>0</td>\n      <td>F</td>\n      <td>сотрудник</td>\n      <td>0</td>\n      <td>253875.639453</td>\n      <td>покупка жилья</td>\n    </tr>\n    <tr>\n      <th>1</th>\n      <td>1</td>\n      <td>-4024.803754</td>\n      <td>36</td>\n      <td>среднее</td>\n      <td>1</td>\n      <td>женат / замужем</td>\n      <td>0</td>\n      <td>F</td>\n      <td>сотрудник</td>\n      <td>0</td>\n      <td>112080.014102</td>\n      <td>приобретение автомобиля</td>\n    </tr>\n    <tr>\n      <th>2</th>\n      <td>0</td>\n      <td>-5623.422610</td>\n      <td>33</td>\n      <td>Среднее</td>\n      <td>1</td>\n      <td>женат / замужем</td>\n      <td>0</td>\n      <td>M</td>\n      <td>сотрудник</td>\n      <td>0</td>\n      <td>145885.952297</td>\n      <td>покупка жилья</td>\n    </tr>\n    <tr>\n      <th>3</th>\n      <td>3</td>\n      <td>-4124.747207</td>\n      <td>32</td>\n      <td>среднее</td>\n      <td>1</td>\n      <td>женат / замужем</td>\n      <td>0</td>\n      <td>M</td>\n      <td>сотрудник</td>\n      <td>0</td>\n      <td>267628.550329</td>\n      <td>дополнительное образование</td>\n    </tr>\n    <tr>\n      <th>4</th>\n      <td>0</td>\n      <td>340266.072047</td>\n      <td>53</td>\n      <td>среднее</td>\n      <td>1</td>\n      <td>гражданский брак</td>\n      <td>1</td>\n      <td>F</td>\n      <td>пенсионер</td>\n      <td>0</td>\n      <td>158616.077870</td>\n      <td>сыграть свадьбу</td>\n    </tr>\n    <tr>\n      <th>5</th>\n      <td>0</td>\n      <td>-926.185831</td>\n      <td>27</td>\n      <td>высшее</td>\n      <td>0</td>\n      <td>гражданский брак</td>\n      <td>1</td>\n      <td>M</td>\n      <td>компаньон</td>\n      <td>0</td>\n      <td>255763.565419</td>\n      <td>покупка жилья</td>\n    </tr>\n    <tr>\n      <th>6</th>\n      <td>0</td>\n      <td>-2879.202052</td>\n      <td>43</td>\n      <td>высшее</td>\n      <td>0</td>\n      <td>женат / замужем</td>\n      <td>0</td>\n      <td>F</td>\n      <td>компаньон</td>\n      <td>0</td>\n      <td>240525.971920</td>\n      <td>операции с жильем</td>\n    </tr>\n    <tr>\n      <th>7</th>\n      <td>0</td>\n      <td>-152.779569</td>\n      <td>50</td>\n      <td>СРЕДНЕЕ</td>\n      <td>1</td>\n      <td>женат / замужем</td>\n      <td>0</td>\n      <td>M</td>\n      <td>сотрудник</td>\n      <td>0</td>\n      <td>135823.934197</td>\n      <td>образование</td>\n    </tr>\n    <tr>\n      <th>8</th>\n      <td>2</td>\n      <td>-6929.865299</td>\n      <td>35</td>\n      <td>ВЫСШЕЕ</td>\n      <td>0</td>\n      <td>гражданский брак</td>\n      <td>1</td>\n      <td>F</td>\n      <td>сотрудник</td>\n      <td>0</td>\n      <td>95856.832424</td>\n      <td>на проведение свадьбы</td>\n    </tr>\n    <tr>\n      <th>9</th>\n      <td>0</td>\n      <td>-2188.756445</td>\n      <td>41</td>\n      <td>среднее</td>\n      <td>1</td>\n      <td>женат / замужем</td>\n      <td>0</td>\n      <td>M</td>\n      <td>сотрудник</td>\n      <td>0</td>\n      <td>144425.938277</td>\n      <td>покупка жилья для семьи</td>\n    </tr>\n  </tbody>\n</table>\n</div>"
     },
     "execution_count": 84,
     "metadata": {},
     "output_type": "execute_result"
    }
   ],
   "source": [
    "import math\n",
    "\n",
    "import pandas as pd\n",
    "\n",
    "data = pd.read_csv(\"./data.csv\")\n",
    "\n",
    "data.head(10)"
   ],
   "metadata": {
    "collapsed": false,
    "ExecuteTime": {
     "end_time": "2024-05-28T13:44:00.888172400Z",
     "start_time": "2024-05-28T13:44:00.381778700Z"
    }
   },
   "id": "a2692da0d660998e"
  },
  {
   "cell_type": "markdown",
   "source": [
    "## Шаг 2. Предобработка данных"
   ],
   "metadata": {
    "collapsed": false
   },
   "id": "16b1f7d9fe88e7b7"
  },
  {
   "cell_type": "markdown",
   "source": [
    "### 1. Проверим на пустые значения"
   ],
   "metadata": {
    "collapsed": false
   },
   "id": "6e27da017638bf6f"
  },
  {
   "cell_type": "code",
   "execution_count": 85,
   "outputs": [
    {
     "data": {
      "text/plain": "children               0\ndays_employed       2174\ndob_years              0\neducation              0\neducation_id           0\nfamily_status          0\nfamily_status_id       0\ngender                 0\nincome_type            0\ndebt                   0\ntotal_income        2174\npurpose                0\ndtype: int64"
     },
     "execution_count": 85,
     "metadata": {},
     "output_type": "execute_result"
    }
   ],
   "source": [
    "data.isna().sum()"
   ],
   "metadata": {
    "collapsed": false,
    "ExecuteTime": {
     "end_time": "2024-05-28T13:44:00.928065100Z",
     "start_time": "2024-05-28T13:44:00.467548200Z"
    }
   },
   "id": "2c395564dd57c036"
  },
  {
   "cell_type": "markdown",
   "source": [
    "#### Вывод: Мы выяснили что единственный столбец с пропущенными значениями это days_employed - 2174 пропущенных значения. Отлично дальше мы сможем это исправить"
   ],
   "metadata": {
    "collapsed": false
   },
   "id": "94b34356b71578f3"
  },
  {
   "cell_type": "markdown",
   "source": [
    "### Как мы видим у нас в столбце children есть значения < 0.\n",
    "#### Вывод: Причиной подобного события вероятно есть потеря знака у числа. Её можно исправить: применим функцию модуль ко всем значениям столбца"
   ],
   "metadata": {
    "collapsed": false
   },
   "id": "c6c7ff439490c50a"
  },
  {
   "cell_type": "code",
   "execution_count": 86,
   "outputs": [
    {
     "data": {
      "text/plain": "   children  days_employed  dob_years education  education_id  \\\n0         1   -8437.673028         42    высшее             0   \n1         1   -4024.803754         36   среднее             1   \n2         0   -5623.422610         33   Среднее             1   \n3         3   -4124.747207         32   среднее             1   \n4         0  340266.072047         53   среднее             1   \n5         0    -926.185831         27    высшее             0   \n6         0   -2879.202052         43    высшее             0   \n7         0    -152.779569         50   СРЕДНЕЕ             1   \n8         2   -6929.865299         35    ВЫСШЕЕ             0   \n9         0   -2188.756445         41   среднее             1   \n\n      family_status  family_status_id gender income_type  debt   total_income  \\\n0   женат / замужем                 0      F   сотрудник     0  253875.639453   \n1   женат / замужем                 0      F   сотрудник     0  112080.014102   \n2   женат / замужем                 0      M   сотрудник     0  145885.952297   \n3   женат / замужем                 0      M   сотрудник     0  267628.550329   \n4  гражданский брак                 1      F   пенсионер     0  158616.077870   \n5  гражданский брак                 1      M   компаньон     0  255763.565419   \n6   женат / замужем                 0      F   компаньон     0  240525.971920   \n7   женат / замужем                 0      M   сотрудник     0  135823.934197   \n8  гражданский брак                 1      F   сотрудник     0   95856.832424   \n9   женат / замужем                 0      M   сотрудник     0  144425.938277   \n\n                      purpose  \n0               покупка жилья  \n1     приобретение автомобиля  \n2               покупка жилья  \n3  дополнительное образование  \n4             сыграть свадьбу  \n5               покупка жилья  \n6           операции с жильем  \n7                 образование  \n8       на проведение свадьбы  \n9     покупка жилья для семьи  ",
      "text/html": "<div>\n<style scoped>\n    .dataframe tbody tr th:only-of-type {\n        vertical-align: middle;\n    }\n\n    .dataframe tbody tr th {\n        vertical-align: top;\n    }\n\n    .dataframe thead th {\n        text-align: right;\n    }\n</style>\n<table border=\"1\" class=\"dataframe\">\n  <thead>\n    <tr style=\"text-align: right;\">\n      <th></th>\n      <th>children</th>\n      <th>days_employed</th>\n      <th>dob_years</th>\n      <th>education</th>\n      <th>education_id</th>\n      <th>family_status</th>\n      <th>family_status_id</th>\n      <th>gender</th>\n      <th>income_type</th>\n      <th>debt</th>\n      <th>total_income</th>\n      <th>purpose</th>\n    </tr>\n  </thead>\n  <tbody>\n    <tr>\n      <th>0</th>\n      <td>1</td>\n      <td>-8437.673028</td>\n      <td>42</td>\n      <td>высшее</td>\n      <td>0</td>\n      <td>женат / замужем</td>\n      <td>0</td>\n      <td>F</td>\n      <td>сотрудник</td>\n      <td>0</td>\n      <td>253875.639453</td>\n      <td>покупка жилья</td>\n    </tr>\n    <tr>\n      <th>1</th>\n      <td>1</td>\n      <td>-4024.803754</td>\n      <td>36</td>\n      <td>среднее</td>\n      <td>1</td>\n      <td>женат / замужем</td>\n      <td>0</td>\n      <td>F</td>\n      <td>сотрудник</td>\n      <td>0</td>\n      <td>112080.014102</td>\n      <td>приобретение автомобиля</td>\n    </tr>\n    <tr>\n      <th>2</th>\n      <td>0</td>\n      <td>-5623.422610</td>\n      <td>33</td>\n      <td>Среднее</td>\n      <td>1</td>\n      <td>женат / замужем</td>\n      <td>0</td>\n      <td>M</td>\n      <td>сотрудник</td>\n      <td>0</td>\n      <td>145885.952297</td>\n      <td>покупка жилья</td>\n    </tr>\n    <tr>\n      <th>3</th>\n      <td>3</td>\n      <td>-4124.747207</td>\n      <td>32</td>\n      <td>среднее</td>\n      <td>1</td>\n      <td>женат / замужем</td>\n      <td>0</td>\n      <td>M</td>\n      <td>сотрудник</td>\n      <td>0</td>\n      <td>267628.550329</td>\n      <td>дополнительное образование</td>\n    </tr>\n    <tr>\n      <th>4</th>\n      <td>0</td>\n      <td>340266.072047</td>\n      <td>53</td>\n      <td>среднее</td>\n      <td>1</td>\n      <td>гражданский брак</td>\n      <td>1</td>\n      <td>F</td>\n      <td>пенсионер</td>\n      <td>0</td>\n      <td>158616.077870</td>\n      <td>сыграть свадьбу</td>\n    </tr>\n    <tr>\n      <th>5</th>\n      <td>0</td>\n      <td>-926.185831</td>\n      <td>27</td>\n      <td>высшее</td>\n      <td>0</td>\n      <td>гражданский брак</td>\n      <td>1</td>\n      <td>M</td>\n      <td>компаньон</td>\n      <td>0</td>\n      <td>255763.565419</td>\n      <td>покупка жилья</td>\n    </tr>\n    <tr>\n      <th>6</th>\n      <td>0</td>\n      <td>-2879.202052</td>\n      <td>43</td>\n      <td>высшее</td>\n      <td>0</td>\n      <td>женат / замужем</td>\n      <td>0</td>\n      <td>F</td>\n      <td>компаньон</td>\n      <td>0</td>\n      <td>240525.971920</td>\n      <td>операции с жильем</td>\n    </tr>\n    <tr>\n      <th>7</th>\n      <td>0</td>\n      <td>-152.779569</td>\n      <td>50</td>\n      <td>СРЕДНЕЕ</td>\n      <td>1</td>\n      <td>женат / замужем</td>\n      <td>0</td>\n      <td>M</td>\n      <td>сотрудник</td>\n      <td>0</td>\n      <td>135823.934197</td>\n      <td>образование</td>\n    </tr>\n    <tr>\n      <th>8</th>\n      <td>2</td>\n      <td>-6929.865299</td>\n      <td>35</td>\n      <td>ВЫСШЕЕ</td>\n      <td>0</td>\n      <td>гражданский брак</td>\n      <td>1</td>\n      <td>F</td>\n      <td>сотрудник</td>\n      <td>0</td>\n      <td>95856.832424</td>\n      <td>на проведение свадьбы</td>\n    </tr>\n    <tr>\n      <th>9</th>\n      <td>0</td>\n      <td>-2188.756445</td>\n      <td>41</td>\n      <td>среднее</td>\n      <td>1</td>\n      <td>женат / замужем</td>\n      <td>0</td>\n      <td>M</td>\n      <td>сотрудник</td>\n      <td>0</td>\n      <td>144425.938277</td>\n      <td>покупка жилья для семьи</td>\n    </tr>\n  </tbody>\n</table>\n</div>"
     },
     "execution_count": 86,
     "metadata": {},
     "output_type": "execute_result"
    }
   ],
   "source": [
    "data[\"children\"] = data[\"children\"].apply(lambda x: abs(x))\n",
    "\n",
    "data.head(10)"
   ],
   "metadata": {
    "collapsed": false,
    "ExecuteTime": {
     "end_time": "2024-05-28T13:44:00.945020700Z",
     "start_time": "2024-05-28T13:44:00.530088600Z"
    }
   },
   "id": "b3dedbe17bbfc20b"
  },
  {
   "cell_type": "markdown",
   "source": [
    "### Как мы видим у нас в столбце days_employed есть значения < 0.\n",
    "#### Вывод: Причиной подобного события вероятно есть потеря знака у числа. Её можно исправить: применим функцию модуль ко всем значениям столбца"
   ],
   "metadata": {
    "collapsed": false
   },
   "id": "794f9c266b6168ff"
  },
  {
   "cell_type": "markdown",
   "source": [],
   "metadata": {
    "collapsed": false
   },
   "id": "9ef989f8b1ae80fa"
  },
  {
   "cell_type": "code",
   "execution_count": 87,
   "outputs": [
    {
     "data": {
      "text/plain": "   children  days_employed  dob_years education  education_id  \\\n0         1    8437.673028         42    высшее             0   \n1         1    4024.803754         36   среднее             1   \n2         0    5623.422610         33   Среднее             1   \n3         3    4124.747207         32   среднее             1   \n4         0  340266.072047         53   среднее             1   \n5         0     926.185831         27    высшее             0   \n6         0    2879.202052         43    высшее             0   \n7         0     152.779569         50   СРЕДНЕЕ             1   \n8         2    6929.865299         35    ВЫСШЕЕ             0   \n9         0    2188.756445         41   среднее             1   \n\n      family_status  family_status_id gender income_type  debt   total_income  \\\n0   женат / замужем                 0      F   сотрудник     0  253875.639453   \n1   женат / замужем                 0      F   сотрудник     0  112080.014102   \n2   женат / замужем                 0      M   сотрудник     0  145885.952297   \n3   женат / замужем                 0      M   сотрудник     0  267628.550329   \n4  гражданский брак                 1      F   пенсионер     0  158616.077870   \n5  гражданский брак                 1      M   компаньон     0  255763.565419   \n6   женат / замужем                 0      F   компаньон     0  240525.971920   \n7   женат / замужем                 0      M   сотрудник     0  135823.934197   \n8  гражданский брак                 1      F   сотрудник     0   95856.832424   \n9   женат / замужем                 0      M   сотрудник     0  144425.938277   \n\n                      purpose  \n0               покупка жилья  \n1     приобретение автомобиля  \n2               покупка жилья  \n3  дополнительное образование  \n4             сыграть свадьбу  \n5               покупка жилья  \n6           операции с жильем  \n7                 образование  \n8       на проведение свадьбы  \n9     покупка жилья для семьи  ",
      "text/html": "<div>\n<style scoped>\n    .dataframe tbody tr th:only-of-type {\n        vertical-align: middle;\n    }\n\n    .dataframe tbody tr th {\n        vertical-align: top;\n    }\n\n    .dataframe thead th {\n        text-align: right;\n    }\n</style>\n<table border=\"1\" class=\"dataframe\">\n  <thead>\n    <tr style=\"text-align: right;\">\n      <th></th>\n      <th>children</th>\n      <th>days_employed</th>\n      <th>dob_years</th>\n      <th>education</th>\n      <th>education_id</th>\n      <th>family_status</th>\n      <th>family_status_id</th>\n      <th>gender</th>\n      <th>income_type</th>\n      <th>debt</th>\n      <th>total_income</th>\n      <th>purpose</th>\n    </tr>\n  </thead>\n  <tbody>\n    <tr>\n      <th>0</th>\n      <td>1</td>\n      <td>8437.673028</td>\n      <td>42</td>\n      <td>высшее</td>\n      <td>0</td>\n      <td>женат / замужем</td>\n      <td>0</td>\n      <td>F</td>\n      <td>сотрудник</td>\n      <td>0</td>\n      <td>253875.639453</td>\n      <td>покупка жилья</td>\n    </tr>\n    <tr>\n      <th>1</th>\n      <td>1</td>\n      <td>4024.803754</td>\n      <td>36</td>\n      <td>среднее</td>\n      <td>1</td>\n      <td>женат / замужем</td>\n      <td>0</td>\n      <td>F</td>\n      <td>сотрудник</td>\n      <td>0</td>\n      <td>112080.014102</td>\n      <td>приобретение автомобиля</td>\n    </tr>\n    <tr>\n      <th>2</th>\n      <td>0</td>\n      <td>5623.422610</td>\n      <td>33</td>\n      <td>Среднее</td>\n      <td>1</td>\n      <td>женат / замужем</td>\n      <td>0</td>\n      <td>M</td>\n      <td>сотрудник</td>\n      <td>0</td>\n      <td>145885.952297</td>\n      <td>покупка жилья</td>\n    </tr>\n    <tr>\n      <th>3</th>\n      <td>3</td>\n      <td>4124.747207</td>\n      <td>32</td>\n      <td>среднее</td>\n      <td>1</td>\n      <td>женат / замужем</td>\n      <td>0</td>\n      <td>M</td>\n      <td>сотрудник</td>\n      <td>0</td>\n      <td>267628.550329</td>\n      <td>дополнительное образование</td>\n    </tr>\n    <tr>\n      <th>4</th>\n      <td>0</td>\n      <td>340266.072047</td>\n      <td>53</td>\n      <td>среднее</td>\n      <td>1</td>\n      <td>гражданский брак</td>\n      <td>1</td>\n      <td>F</td>\n      <td>пенсионер</td>\n      <td>0</td>\n      <td>158616.077870</td>\n      <td>сыграть свадьбу</td>\n    </tr>\n    <tr>\n      <th>5</th>\n      <td>0</td>\n      <td>926.185831</td>\n      <td>27</td>\n      <td>высшее</td>\n      <td>0</td>\n      <td>гражданский брак</td>\n      <td>1</td>\n      <td>M</td>\n      <td>компаньон</td>\n      <td>0</td>\n      <td>255763.565419</td>\n      <td>покупка жилья</td>\n    </tr>\n    <tr>\n      <th>6</th>\n      <td>0</td>\n      <td>2879.202052</td>\n      <td>43</td>\n      <td>высшее</td>\n      <td>0</td>\n      <td>женат / замужем</td>\n      <td>0</td>\n      <td>F</td>\n      <td>компаньон</td>\n      <td>0</td>\n      <td>240525.971920</td>\n      <td>операции с жильем</td>\n    </tr>\n    <tr>\n      <th>7</th>\n      <td>0</td>\n      <td>152.779569</td>\n      <td>50</td>\n      <td>СРЕДНЕЕ</td>\n      <td>1</td>\n      <td>женат / замужем</td>\n      <td>0</td>\n      <td>M</td>\n      <td>сотрудник</td>\n      <td>0</td>\n      <td>135823.934197</td>\n      <td>образование</td>\n    </tr>\n    <tr>\n      <th>8</th>\n      <td>2</td>\n      <td>6929.865299</td>\n      <td>35</td>\n      <td>ВЫСШЕЕ</td>\n      <td>0</td>\n      <td>гражданский брак</td>\n      <td>1</td>\n      <td>F</td>\n      <td>сотрудник</td>\n      <td>0</td>\n      <td>95856.832424</td>\n      <td>на проведение свадьбы</td>\n    </tr>\n    <tr>\n      <th>9</th>\n      <td>0</td>\n      <td>2188.756445</td>\n      <td>41</td>\n      <td>среднее</td>\n      <td>1</td>\n      <td>женат / замужем</td>\n      <td>0</td>\n      <td>M</td>\n      <td>сотрудник</td>\n      <td>0</td>\n      <td>144425.938277</td>\n      <td>покупка жилья для семьи</td>\n    </tr>\n  </tbody>\n</table>\n</div>"
     },
     "execution_count": 87,
     "metadata": {},
     "output_type": "execute_result"
    }
   ],
   "source": [
    "data[\"days_employed\"] = data[\"days_employed\"].apply(lambda x: abs(x))\n",
    "\n",
    "data.head(10)"
   ],
   "metadata": {
    "collapsed": false,
    "ExecuteTime": {
     "end_time": "2024-05-28T13:44:00.954996100Z",
     "start_time": "2024-05-28T13:44:00.627401700Z"
    }
   },
   "id": "4e50460148a807cc"
  },
  {
   "cell_type": "markdown",
   "source": [
    "### Теперь все 2174 пропущенных значения в столбце days_employed мы заменим на медианное значение "
   ],
   "metadata": {
    "collapsed": false
   },
   "id": "d2bdc8c0d54d1a97"
  },
  {
   "cell_type": "markdown",
   "source": [],
   "metadata": {
    "collapsed": false
   },
   "id": "958b04c304a4fd14"
  },
  {
   "cell_type": "code",
   "execution_count": 88,
   "outputs": [
    {
     "data": {
      "text/plain": "children               0\ndays_employed          0\ndob_years              0\neducation              0\neducation_id           0\nfamily_status          0\nfamily_status_id       0\ngender                 0\nincome_type            0\ndebt                   0\ntotal_income        2174\npurpose                0\ndtype: int64"
     },
     "execution_count": 88,
     "metadata": {},
     "output_type": "execute_result"
    }
   ],
   "source": [
    "data[\"days_employed\"] = data[\"days_employed\"].fillna(data[\"days_employed\"].median())\n",
    "data.isnull().sum()"
   ],
   "metadata": {
    "collapsed": false,
    "ExecuteTime": {
     "end_time": "2024-05-28T13:44:00.960977600Z",
     "start_time": "2024-05-28T13:44:00.705660800Z"
    }
   },
   "id": "99f1560e899240a9"
  },
  {
   "cell_type": "markdown",
   "source": [
    "#### Вывод: Столбце days_employed пришел в норму"
   ],
   "metadata": {
    "collapsed": false
   },
   "id": "233743e3a5eb3d63"
  },
  {
   "cell_type": "markdown",
   "source": [
    "### Заменим вещественный тип данных на целочисленный в столбце total_income. И предварительно изменив все пустые значения на медианное значение столбца"
   ],
   "metadata": {
    "collapsed": false
   },
   "id": "f3a96d1e6b29fdaf"
  },
  {
   "cell_type": "code",
   "execution_count": 89,
   "outputs": [
    {
     "data": {
      "text/plain": "0    253875\n1    112080\n2    145885\n3    267628\n4    158616\n5    255763\n6    240525\n7    135823\n8     95856\n9    144425\nName: total_income, dtype: int32"
     },
     "execution_count": 89,
     "metadata": {},
     "output_type": "execute_result"
    }
   ],
   "source": [
    "data[\"total_income\"] = data[\"total_income\"].fillna(data[\"total_income\"].median())\n",
    "data[\"total_income\"] = data[\"total_income\"].astype(int)\n",
    "\n",
    "data[\"total_income\"].head(10)"
   ],
   "metadata": {
    "collapsed": false,
    "ExecuteTime": {
     "end_time": "2024-05-28T13:44:00.961976500Z",
     "start_time": "2024-05-28T13:44:00.781457500Z"
    }
   },
   "id": "aaa9e39b69585624"
  },
  {
   "cell_type": "markdown",
   "source": [
    "#### Вывод: в столбце total_income есть только целочисленные значения"
   ],
   "metadata": {
    "collapsed": false
   },
   "id": "209ba60738cf2607"
  },
  {
   "cell_type": "markdown",
   "source": [
    "### 2. Обработка дубликатов\n",
    "1) Удалим явные дубликаты в таблице\n",
    "2) Найдем неявные дубликаты и почистим их "
   ],
   "metadata": {
    "collapsed": false
   },
   "id": "29a120d198c323ef"
  },
  {
   "cell_type": "markdown",
   "source": [
    "#### 1. Удалим явные дубликаты в таблице"
   ],
   "metadata": {
    "collapsed": false
   },
   "id": "f1791ce1864d7cd5"
  },
  {
   "cell_type": "code",
   "execution_count": 90,
   "outputs": [
    {
     "data": {
      "text/plain": "       children  days_employed  dob_years education  education_id  \\\n0             1    8437.673028         42    высшее             0   \n1             1    4024.803754         36   среднее             1   \n2             0    5623.422610         33   Среднее             1   \n3             3    4124.747207         32   среднее             1   \n4             0  340266.072047         53   среднее             1   \n...         ...            ...        ...       ...           ...   \n21466         1    4529.316663         43   среднее             1   \n21467         0  343937.404131         67   среднее             1   \n21468         1    2113.346888         38   среднее             1   \n21469         3    3112.481705         38   среднее             1   \n21470         2    1984.507589         40   среднее             1   \n\n          family_status  family_status_id gender income_type  debt  \\\n0       женат / замужем                 0      F   сотрудник     0   \n1       женат / замужем                 0      F   сотрудник     0   \n2       женат / замужем                 0      M   сотрудник     0   \n3       женат / замужем                 0      M   сотрудник     0   \n4      гражданский брак                 1      F   пенсионер     0   \n...                 ...               ...    ...         ...   ...   \n21466  гражданский брак                 1      F   компаньон     0   \n21467   женат / замужем                 0      F   пенсионер     0   \n21468  гражданский брак                 1      M   сотрудник     1   \n21469   женат / замужем                 0      M   сотрудник     1   \n21470   женат / замужем                 0      F   сотрудник     0   \n\n       total_income                       purpose  \n0            253875                 покупка жилья  \n1            112080       приобретение автомобиля  \n2            145885                 покупка жилья  \n3            267628    дополнительное образование  \n4            158616               сыграть свадьбу  \n...             ...                           ...  \n21466        224791             операции с жильем  \n21467        155999          сделка с автомобилем  \n21468         89672                  недвижимость  \n21469        244093  на покупку своего автомобиля  \n21470         82047         на покупку автомобиля  \n\n[21471 rows x 12 columns]",
      "text/html": "<div>\n<style scoped>\n    .dataframe tbody tr th:only-of-type {\n        vertical-align: middle;\n    }\n\n    .dataframe tbody tr th {\n        vertical-align: top;\n    }\n\n    .dataframe thead th {\n        text-align: right;\n    }\n</style>\n<table border=\"1\" class=\"dataframe\">\n  <thead>\n    <tr style=\"text-align: right;\">\n      <th></th>\n      <th>children</th>\n      <th>days_employed</th>\n      <th>dob_years</th>\n      <th>education</th>\n      <th>education_id</th>\n      <th>family_status</th>\n      <th>family_status_id</th>\n      <th>gender</th>\n      <th>income_type</th>\n      <th>debt</th>\n      <th>total_income</th>\n      <th>purpose</th>\n    </tr>\n  </thead>\n  <tbody>\n    <tr>\n      <th>0</th>\n      <td>1</td>\n      <td>8437.673028</td>\n      <td>42</td>\n      <td>высшее</td>\n      <td>0</td>\n      <td>женат / замужем</td>\n      <td>0</td>\n      <td>F</td>\n      <td>сотрудник</td>\n      <td>0</td>\n      <td>253875</td>\n      <td>покупка жилья</td>\n    </tr>\n    <tr>\n      <th>1</th>\n      <td>1</td>\n      <td>4024.803754</td>\n      <td>36</td>\n      <td>среднее</td>\n      <td>1</td>\n      <td>женат / замужем</td>\n      <td>0</td>\n      <td>F</td>\n      <td>сотрудник</td>\n      <td>0</td>\n      <td>112080</td>\n      <td>приобретение автомобиля</td>\n    </tr>\n    <tr>\n      <th>2</th>\n      <td>0</td>\n      <td>5623.422610</td>\n      <td>33</td>\n      <td>Среднее</td>\n      <td>1</td>\n      <td>женат / замужем</td>\n      <td>0</td>\n      <td>M</td>\n      <td>сотрудник</td>\n      <td>0</td>\n      <td>145885</td>\n      <td>покупка жилья</td>\n    </tr>\n    <tr>\n      <th>3</th>\n      <td>3</td>\n      <td>4124.747207</td>\n      <td>32</td>\n      <td>среднее</td>\n      <td>1</td>\n      <td>женат / замужем</td>\n      <td>0</td>\n      <td>M</td>\n      <td>сотрудник</td>\n      <td>0</td>\n      <td>267628</td>\n      <td>дополнительное образование</td>\n    </tr>\n    <tr>\n      <th>4</th>\n      <td>0</td>\n      <td>340266.072047</td>\n      <td>53</td>\n      <td>среднее</td>\n      <td>1</td>\n      <td>гражданский брак</td>\n      <td>1</td>\n      <td>F</td>\n      <td>пенсионер</td>\n      <td>0</td>\n      <td>158616</td>\n      <td>сыграть свадьбу</td>\n    </tr>\n    <tr>\n      <th>...</th>\n      <td>...</td>\n      <td>...</td>\n      <td>...</td>\n      <td>...</td>\n      <td>...</td>\n      <td>...</td>\n      <td>...</td>\n      <td>...</td>\n      <td>...</td>\n      <td>...</td>\n      <td>...</td>\n      <td>...</td>\n    </tr>\n    <tr>\n      <th>21466</th>\n      <td>1</td>\n      <td>4529.316663</td>\n      <td>43</td>\n      <td>среднее</td>\n      <td>1</td>\n      <td>гражданский брак</td>\n      <td>1</td>\n      <td>F</td>\n      <td>компаньон</td>\n      <td>0</td>\n      <td>224791</td>\n      <td>операции с жильем</td>\n    </tr>\n    <tr>\n      <th>21467</th>\n      <td>0</td>\n      <td>343937.404131</td>\n      <td>67</td>\n      <td>среднее</td>\n      <td>1</td>\n      <td>женат / замужем</td>\n      <td>0</td>\n      <td>F</td>\n      <td>пенсионер</td>\n      <td>0</td>\n      <td>155999</td>\n      <td>сделка с автомобилем</td>\n    </tr>\n    <tr>\n      <th>21468</th>\n      <td>1</td>\n      <td>2113.346888</td>\n      <td>38</td>\n      <td>среднее</td>\n      <td>1</td>\n      <td>гражданский брак</td>\n      <td>1</td>\n      <td>M</td>\n      <td>сотрудник</td>\n      <td>1</td>\n      <td>89672</td>\n      <td>недвижимость</td>\n    </tr>\n    <tr>\n      <th>21469</th>\n      <td>3</td>\n      <td>3112.481705</td>\n      <td>38</td>\n      <td>среднее</td>\n      <td>1</td>\n      <td>женат / замужем</td>\n      <td>0</td>\n      <td>M</td>\n      <td>сотрудник</td>\n      <td>1</td>\n      <td>244093</td>\n      <td>на покупку своего автомобиля</td>\n    </tr>\n    <tr>\n      <th>21470</th>\n      <td>2</td>\n      <td>1984.507589</td>\n      <td>40</td>\n      <td>среднее</td>\n      <td>1</td>\n      <td>женат / замужем</td>\n      <td>0</td>\n      <td>F</td>\n      <td>сотрудник</td>\n      <td>0</td>\n      <td>82047</td>\n      <td>на покупку автомобиля</td>\n    </tr>\n  </tbody>\n</table>\n<p>21471 rows × 12 columns</p>\n</div>"
     },
     "execution_count": 90,
     "metadata": {},
     "output_type": "execute_result"
    }
   ],
   "source": [
    "data = data.drop_duplicates().reset_index(drop=True)\n",
    "data"
   ],
   "metadata": {
    "collapsed": false,
    "ExecuteTime": {
     "end_time": "2024-05-28T13:44:01.081654600Z",
     "start_time": "2024-05-28T13:44:00.860248600Z"
    }
   },
   "id": "a550eb6616311b32"
  },
  {
   "cell_type": "markdown",
   "source": [
    "#### Вывод: все явные дубликаты были удалены метод drop_duplicates и последующее очистка старых индексов"
   ],
   "metadata": {
    "collapsed": false
   },
   "id": "70803b34190c457f"
  },
  {
   "cell_type": "markdown",
   "source": [
    "#### 2. Поиск и удаление неявных дубликатов"
   ],
   "metadata": {
    "collapsed": false
   },
   "id": "fa13c7427ebf2a37"
  },
  {
   "cell_type": "code",
   "execution_count": 91,
   "outputs": [
    {
     "data": {
      "text/plain": "       children  days_employed  dob_years education  education_id  \\\n0             1    8437.673028         42    высшее             0   \n1             1    4024.803754         36   среднее             1   \n2             0    5623.422610         33   Среднее             1   \n3             3    4124.747207         32   среднее             1   \n4             0  340266.072047         53   среднее             1   \n...         ...            ...        ...       ...           ...   \n21466         1    4529.316663         43   среднее             1   \n21467         0  343937.404131         67   среднее             1   \n21468         1    2113.346888         38   среднее             1   \n21469         3    3112.481705         38   среднее             1   \n21470         2    1984.507589         40   среднее             1   \n\n          family_status  family_status_id gender income_type  debt  \\\n0       женат / замужем                 0      F   сотрудник     0   \n1       женат / замужем                 0      F   сотрудник     0   \n2       женат / замужем                 0      M   сотрудник     0   \n3       женат / замужем                 0      M   сотрудник     0   \n4      гражданский брак                 1      F   пенсионер     0   \n...                 ...               ...    ...         ...   ...   \n21466  гражданский брак                 1      F   компаньон     0   \n21467   женат / замужем                 0      F   пенсионер     0   \n21468  гражданский брак                 1      M   сотрудник     1   \n21469   женат / замужем                 0      M   сотрудник     1   \n21470   женат / замужем                 0      F   сотрудник     0   \n\n       total_income                       purpose  \n0            253875                 покупка жилья  \n1            112080       приобретение автомобиля  \n2            145885                 покупка жилья  \n3            267628    дополнительное образование  \n4            158616               сыграть свадьбу  \n...             ...                           ...  \n21466        224791             операции с жильем  \n21467        155999          сделка с автомобилем  \n21468         89672                  недвижимость  \n21469        244093  на покупку своего автомобиля  \n21470         82047         на покупку автомобиля  \n\n[21471 rows x 12 columns]",
      "text/html": "<div>\n<style scoped>\n    .dataframe tbody tr th:only-of-type {\n        vertical-align: middle;\n    }\n\n    .dataframe tbody tr th {\n        vertical-align: top;\n    }\n\n    .dataframe thead th {\n        text-align: right;\n    }\n</style>\n<table border=\"1\" class=\"dataframe\">\n  <thead>\n    <tr style=\"text-align: right;\">\n      <th></th>\n      <th>children</th>\n      <th>days_employed</th>\n      <th>dob_years</th>\n      <th>education</th>\n      <th>education_id</th>\n      <th>family_status</th>\n      <th>family_status_id</th>\n      <th>gender</th>\n      <th>income_type</th>\n      <th>debt</th>\n      <th>total_income</th>\n      <th>purpose</th>\n    </tr>\n  </thead>\n  <tbody>\n    <tr>\n      <th>0</th>\n      <td>1</td>\n      <td>8437.673028</td>\n      <td>42</td>\n      <td>высшее</td>\n      <td>0</td>\n      <td>женат / замужем</td>\n      <td>0</td>\n      <td>F</td>\n      <td>сотрудник</td>\n      <td>0</td>\n      <td>253875</td>\n      <td>покупка жилья</td>\n    </tr>\n    <tr>\n      <th>1</th>\n      <td>1</td>\n      <td>4024.803754</td>\n      <td>36</td>\n      <td>среднее</td>\n      <td>1</td>\n      <td>женат / замужем</td>\n      <td>0</td>\n      <td>F</td>\n      <td>сотрудник</td>\n      <td>0</td>\n      <td>112080</td>\n      <td>приобретение автомобиля</td>\n    </tr>\n    <tr>\n      <th>2</th>\n      <td>0</td>\n      <td>5623.422610</td>\n      <td>33</td>\n      <td>Среднее</td>\n      <td>1</td>\n      <td>женат / замужем</td>\n      <td>0</td>\n      <td>M</td>\n      <td>сотрудник</td>\n      <td>0</td>\n      <td>145885</td>\n      <td>покупка жилья</td>\n    </tr>\n    <tr>\n      <th>3</th>\n      <td>3</td>\n      <td>4124.747207</td>\n      <td>32</td>\n      <td>среднее</td>\n      <td>1</td>\n      <td>женат / замужем</td>\n      <td>0</td>\n      <td>M</td>\n      <td>сотрудник</td>\n      <td>0</td>\n      <td>267628</td>\n      <td>дополнительное образование</td>\n    </tr>\n    <tr>\n      <th>4</th>\n      <td>0</td>\n      <td>340266.072047</td>\n      <td>53</td>\n      <td>среднее</td>\n      <td>1</td>\n      <td>гражданский брак</td>\n      <td>1</td>\n      <td>F</td>\n      <td>пенсионер</td>\n      <td>0</td>\n      <td>158616</td>\n      <td>сыграть свадьбу</td>\n    </tr>\n    <tr>\n      <th>...</th>\n      <td>...</td>\n      <td>...</td>\n      <td>...</td>\n      <td>...</td>\n      <td>...</td>\n      <td>...</td>\n      <td>...</td>\n      <td>...</td>\n      <td>...</td>\n      <td>...</td>\n      <td>...</td>\n      <td>...</td>\n    </tr>\n    <tr>\n      <th>21466</th>\n      <td>1</td>\n      <td>4529.316663</td>\n      <td>43</td>\n      <td>среднее</td>\n      <td>1</td>\n      <td>гражданский брак</td>\n      <td>1</td>\n      <td>F</td>\n      <td>компаньон</td>\n      <td>0</td>\n      <td>224791</td>\n      <td>операции с жильем</td>\n    </tr>\n    <tr>\n      <th>21467</th>\n      <td>0</td>\n      <td>343937.404131</td>\n      <td>67</td>\n      <td>среднее</td>\n      <td>1</td>\n      <td>женат / замужем</td>\n      <td>0</td>\n      <td>F</td>\n      <td>пенсионер</td>\n      <td>0</td>\n      <td>155999</td>\n      <td>сделка с автомобилем</td>\n    </tr>\n    <tr>\n      <th>21468</th>\n      <td>1</td>\n      <td>2113.346888</td>\n      <td>38</td>\n      <td>среднее</td>\n      <td>1</td>\n      <td>гражданский брак</td>\n      <td>1</td>\n      <td>M</td>\n      <td>сотрудник</td>\n      <td>1</td>\n      <td>89672</td>\n      <td>недвижимость</td>\n    </tr>\n    <tr>\n      <th>21469</th>\n      <td>3</td>\n      <td>3112.481705</td>\n      <td>38</td>\n      <td>среднее</td>\n      <td>1</td>\n      <td>женат / замужем</td>\n      <td>0</td>\n      <td>M</td>\n      <td>сотрудник</td>\n      <td>1</td>\n      <td>244093</td>\n      <td>на покупку своего автомобиля</td>\n    </tr>\n    <tr>\n      <th>21470</th>\n      <td>2</td>\n      <td>1984.507589</td>\n      <td>40</td>\n      <td>среднее</td>\n      <td>1</td>\n      <td>женат / замужем</td>\n      <td>0</td>\n      <td>F</td>\n      <td>сотрудник</td>\n      <td>0</td>\n      <td>82047</td>\n      <td>на покупку автомобиля</td>\n    </tr>\n  </tbody>\n</table>\n<p>21471 rows × 12 columns</p>\n</div>"
     },
     "execution_count": 91,
     "metadata": {},
     "output_type": "execute_result"
    }
   ],
   "source": [
    "data"
   ],
   "metadata": {
    "collapsed": false,
    "ExecuteTime": {
     "end_time": "2024-05-28T13:44:01.224272200Z",
     "start_time": "2024-05-28T13:44:00.971948200Z"
    }
   },
   "id": "d3059b31016cb10e"
  },
  {
   "cell_type": "markdown",
   "source": [
    "#### Как мы видим есть 2 потенциальных столбца с неявными дубликатами это: education, family_status"
   ],
   "metadata": {
    "collapsed": false
   },
   "id": "8891ed47a8985c63"
  },
  {
   "cell_type": "code",
   "execution_count": 92,
   "outputs": [
    {
     "data": {
      "text/plain": "       children  days_employed  dob_years education  education_id  \\\n0             1    8437.673028         42    высшее             0   \n1             1    4024.803754         36   среднее             1   \n2             0    5623.422610         33   среднее             1   \n3             3    4124.747207         32   среднее             1   \n4             0  340266.072047         53   среднее             1   \n...         ...            ...        ...       ...           ...   \n21449         1    4529.316663         43   среднее             1   \n21450         0  343937.404131         67   среднее             1   \n21451         1    2113.346888         38   среднее             1   \n21452         3    3112.481705         38   среднее             1   \n21453         2    1984.507589         40   среднее             1   \n\n          family_status  family_status_id gender income_type  debt  \\\n0       женат / замужем                 0      F   сотрудник     0   \n1       женат / замужем                 0      F   сотрудник     0   \n2       женат / замужем                 0      M   сотрудник     0   \n3       женат / замужем                 0      M   сотрудник     0   \n4      гражданский брак                 1      F   пенсионер     0   \n...                 ...               ...    ...         ...   ...   \n21449  гражданский брак                 1      F   компаньон     0   \n21450   женат / замужем                 0      F   пенсионер     0   \n21451  гражданский брак                 1      M   сотрудник     1   \n21452   женат / замужем                 0      M   сотрудник     1   \n21453   женат / замужем                 0      F   сотрудник     0   \n\n       total_income                       purpose  \n0            253875                 покупка жилья  \n1            112080       приобретение автомобиля  \n2            145885                 покупка жилья  \n3            267628    дополнительное образование  \n4            158616               сыграть свадьбу  \n...             ...                           ...  \n21449        224791             операции с жильем  \n21450        155999          сделка с автомобилем  \n21451         89672                  недвижимость  \n21452        244093  на покупку своего автомобиля  \n21453         82047         на покупку автомобиля  \n\n[21454 rows x 12 columns]",
      "text/html": "<div>\n<style scoped>\n    .dataframe tbody tr th:only-of-type {\n        vertical-align: middle;\n    }\n\n    .dataframe tbody tr th {\n        vertical-align: top;\n    }\n\n    .dataframe thead th {\n        text-align: right;\n    }\n</style>\n<table border=\"1\" class=\"dataframe\">\n  <thead>\n    <tr style=\"text-align: right;\">\n      <th></th>\n      <th>children</th>\n      <th>days_employed</th>\n      <th>dob_years</th>\n      <th>education</th>\n      <th>education_id</th>\n      <th>family_status</th>\n      <th>family_status_id</th>\n      <th>gender</th>\n      <th>income_type</th>\n      <th>debt</th>\n      <th>total_income</th>\n      <th>purpose</th>\n    </tr>\n  </thead>\n  <tbody>\n    <tr>\n      <th>0</th>\n      <td>1</td>\n      <td>8437.673028</td>\n      <td>42</td>\n      <td>высшее</td>\n      <td>0</td>\n      <td>женат / замужем</td>\n      <td>0</td>\n      <td>F</td>\n      <td>сотрудник</td>\n      <td>0</td>\n      <td>253875</td>\n      <td>покупка жилья</td>\n    </tr>\n    <tr>\n      <th>1</th>\n      <td>1</td>\n      <td>4024.803754</td>\n      <td>36</td>\n      <td>среднее</td>\n      <td>1</td>\n      <td>женат / замужем</td>\n      <td>0</td>\n      <td>F</td>\n      <td>сотрудник</td>\n      <td>0</td>\n      <td>112080</td>\n      <td>приобретение автомобиля</td>\n    </tr>\n    <tr>\n      <th>2</th>\n      <td>0</td>\n      <td>5623.422610</td>\n      <td>33</td>\n      <td>среднее</td>\n      <td>1</td>\n      <td>женат / замужем</td>\n      <td>0</td>\n      <td>M</td>\n      <td>сотрудник</td>\n      <td>0</td>\n      <td>145885</td>\n      <td>покупка жилья</td>\n    </tr>\n    <tr>\n      <th>3</th>\n      <td>3</td>\n      <td>4124.747207</td>\n      <td>32</td>\n      <td>среднее</td>\n      <td>1</td>\n      <td>женат / замужем</td>\n      <td>0</td>\n      <td>M</td>\n      <td>сотрудник</td>\n      <td>0</td>\n      <td>267628</td>\n      <td>дополнительное образование</td>\n    </tr>\n    <tr>\n      <th>4</th>\n      <td>0</td>\n      <td>340266.072047</td>\n      <td>53</td>\n      <td>среднее</td>\n      <td>1</td>\n      <td>гражданский брак</td>\n      <td>1</td>\n      <td>F</td>\n      <td>пенсионер</td>\n      <td>0</td>\n      <td>158616</td>\n      <td>сыграть свадьбу</td>\n    </tr>\n    <tr>\n      <th>...</th>\n      <td>...</td>\n      <td>...</td>\n      <td>...</td>\n      <td>...</td>\n      <td>...</td>\n      <td>...</td>\n      <td>...</td>\n      <td>...</td>\n      <td>...</td>\n      <td>...</td>\n      <td>...</td>\n      <td>...</td>\n    </tr>\n    <tr>\n      <th>21449</th>\n      <td>1</td>\n      <td>4529.316663</td>\n      <td>43</td>\n      <td>среднее</td>\n      <td>1</td>\n      <td>гражданский брак</td>\n      <td>1</td>\n      <td>F</td>\n      <td>компаньон</td>\n      <td>0</td>\n      <td>224791</td>\n      <td>операции с жильем</td>\n    </tr>\n    <tr>\n      <th>21450</th>\n      <td>0</td>\n      <td>343937.404131</td>\n      <td>67</td>\n      <td>среднее</td>\n      <td>1</td>\n      <td>женат / замужем</td>\n      <td>0</td>\n      <td>F</td>\n      <td>пенсионер</td>\n      <td>0</td>\n      <td>155999</td>\n      <td>сделка с автомобилем</td>\n    </tr>\n    <tr>\n      <th>21451</th>\n      <td>1</td>\n      <td>2113.346888</td>\n      <td>38</td>\n      <td>среднее</td>\n      <td>1</td>\n      <td>гражданский брак</td>\n      <td>1</td>\n      <td>M</td>\n      <td>сотрудник</td>\n      <td>1</td>\n      <td>89672</td>\n      <td>недвижимость</td>\n    </tr>\n    <tr>\n      <th>21452</th>\n      <td>3</td>\n      <td>3112.481705</td>\n      <td>38</td>\n      <td>среднее</td>\n      <td>1</td>\n      <td>женат / замужем</td>\n      <td>0</td>\n      <td>M</td>\n      <td>сотрудник</td>\n      <td>1</td>\n      <td>244093</td>\n      <td>на покупку своего автомобиля</td>\n    </tr>\n    <tr>\n      <th>21453</th>\n      <td>2</td>\n      <td>1984.507589</td>\n      <td>40</td>\n      <td>среднее</td>\n      <td>1</td>\n      <td>женат / замужем</td>\n      <td>0</td>\n      <td>F</td>\n      <td>сотрудник</td>\n      <td>0</td>\n      <td>82047</td>\n      <td>на покупку автомобиля</td>\n    </tr>\n  </tbody>\n</table>\n<p>21454 rows × 12 columns</p>\n</div>"
     },
     "execution_count": 92,
     "metadata": {},
     "output_type": "execute_result"
    }
   ],
   "source": [
    "data[\"education\"] = data[\"education\"].apply(lambda x: x.lower())\n",
    "data[\"family_status\"] = data[\"family_status\"].apply(lambda x: x.lower())\n",
    "\n",
    "data = data.drop_duplicates().reset_index(drop=True)\n",
    "data"
   ],
   "metadata": {
    "collapsed": false,
    "ExecuteTime": {
     "end_time": "2024-05-28T13:44:01.406785300Z",
     "start_time": "2024-05-28T13:44:01.035777Z"
    }
   },
   "id": "464f81f864079dc8"
  },
  {
   "cell_type": "markdown",
   "source": [
    "#### Вывод: все неянвые дубликаты были превращены в явные путем преобразования строк и дальшего удаление как в пункте 1"
   ],
   "metadata": {
    "collapsed": false
   },
   "id": "2a467163a7c7d7a6"
  },
  {
   "cell_type": "markdown",
   "source": [
    "### Создадим два новых датафрейма, в которых:\n",
    "1) каждому уникальному значению из education соответствует уникальное значение education_id;\n",
    "2) каждому уникальному значению из family_status соответствует уникальное значение family_status_id ."
   ],
   "metadata": {
    "collapsed": false
   },
   "id": "d6c0a81b059d5002"
  },
  {
   "cell_type": "code",
   "execution_count": 93,
   "outputs": [
    {
     "data": {
      "text/plain": "             education  education_id\n0               высшее             0\n1              среднее             1\n2  неоконченное высшее             2\n3            начальное             3\n4       ученая степень             4",
      "text/html": "<div>\n<style scoped>\n    .dataframe tbody tr th:only-of-type {\n        vertical-align: middle;\n    }\n\n    .dataframe tbody tr th {\n        vertical-align: top;\n    }\n\n    .dataframe thead th {\n        text-align: right;\n    }\n</style>\n<table border=\"1\" class=\"dataframe\">\n  <thead>\n    <tr style=\"text-align: right;\">\n      <th></th>\n      <th>education</th>\n      <th>education_id</th>\n    </tr>\n  </thead>\n  <tbody>\n    <tr>\n      <th>0</th>\n      <td>высшее</td>\n      <td>0</td>\n    </tr>\n    <tr>\n      <th>1</th>\n      <td>среднее</td>\n      <td>1</td>\n    </tr>\n    <tr>\n      <th>2</th>\n      <td>неоконченное высшее</td>\n      <td>2</td>\n    </tr>\n    <tr>\n      <th>3</th>\n      <td>начальное</td>\n      <td>3</td>\n    </tr>\n    <tr>\n      <th>4</th>\n      <td>ученая степень</td>\n      <td>4</td>\n    </tr>\n  </tbody>\n</table>\n</div>"
     },
     "execution_count": 93,
     "metadata": {},
     "output_type": "execute_result"
    }
   ],
   "source": [
    "education_unique = data[\"education\"].unique() \n",
    "education_id_unique = data[\"education_id\"].unique() \n",
    "\n",
    "education_data = pd.DataFrame({\n",
    "    'education': education_unique,\n",
    "    'education_id': education_id_unique\n",
    "})\n",
    "\n",
    "education_data"
   ],
   "metadata": {
    "collapsed": false,
    "ExecuteTime": {
     "end_time": "2024-05-28T13:44:01.440694900Z",
     "start_time": "2024-05-28T13:44:01.185377400Z"
    }
   },
   "id": "fda75cf6c8b44dd0"
  },
  {
   "cell_type": "code",
   "execution_count": 94,
   "outputs": [
    {
     "data": {
      "text/plain": "           family_status  family_status_id\n0        женат / замужем                 0\n1       гражданский брак                 1\n2         вдовец / вдова                 2\n3              в разводе                 3\n4  не женат / не замужем                 4",
      "text/html": "<div>\n<style scoped>\n    .dataframe tbody tr th:only-of-type {\n        vertical-align: middle;\n    }\n\n    .dataframe tbody tr th {\n        vertical-align: top;\n    }\n\n    .dataframe thead th {\n        text-align: right;\n    }\n</style>\n<table border=\"1\" class=\"dataframe\">\n  <thead>\n    <tr style=\"text-align: right;\">\n      <th></th>\n      <th>family_status</th>\n      <th>family_status_id</th>\n    </tr>\n  </thead>\n  <tbody>\n    <tr>\n      <th>0</th>\n      <td>женат / замужем</td>\n      <td>0</td>\n    </tr>\n    <tr>\n      <th>1</th>\n      <td>гражданский брак</td>\n      <td>1</td>\n    </tr>\n    <tr>\n      <th>2</th>\n      <td>вдовец / вдова</td>\n      <td>2</td>\n    </tr>\n    <tr>\n      <th>3</th>\n      <td>в разводе</td>\n      <td>3</td>\n    </tr>\n    <tr>\n      <th>4</th>\n      <td>не женат / не замужем</td>\n      <td>4</td>\n    </tr>\n  </tbody>\n</table>\n</div>"
     },
     "execution_count": 94,
     "metadata": {},
     "output_type": "execute_result"
    }
   ],
   "source": [
    "family_status_unique = data[\"family_status\"].unique() \n",
    "family_status_id_unique = data[\"family_status_id\"].unique() \n",
    "\n",
    "family_data = pd.DataFrame({\n",
    "    'family_status': family_status_unique,\n",
    "    'family_status_id': family_status_id_unique\n",
    "})\n",
    "\n",
    "family_data"
   ],
   "metadata": {
    "collapsed": false,
    "ExecuteTime": {
     "end_time": "2024-05-28T13:44:01.511184200Z",
     "start_time": "2024-05-28T13:44:01.208316400Z"
    }
   },
   "id": "9c2b02440d1cd38b"
  },
  {
   "cell_type": "markdown",
   "source": [
    "### Удалим из исходного датафрейма столбцы education и family_status"
   ],
   "metadata": {
    "collapsed": false
   },
   "id": "7f7bba5c6b33db7"
  },
  {
   "cell_type": "code",
   "execution_count": 95,
   "outputs": [],
   "source": [
    "data = data.drop(columns=[\"education\", \"family_status\"], axis=1)"
   ],
   "metadata": {
    "collapsed": false,
    "ExecuteTime": {
     "end_time": "2024-05-28T13:44:01.514176300Z",
     "start_time": "2024-05-28T13:44:01.300070300Z"
    }
   },
   "id": "8ba98de49cadaa27"
  },
  {
   "cell_type": "code",
   "execution_count": 96,
   "outputs": [
    {
     "data": {
      "text/plain": "       children  days_employed  dob_years  education_id  family_status_id  \\\n0             1    8437.673028         42             0                 0   \n1             1    4024.803754         36             1                 0   \n2             0    5623.422610         33             1                 0   \n3             3    4124.747207         32             1                 0   \n4             0  340266.072047         53             1                 1   \n...         ...            ...        ...           ...               ...   \n21449         1    4529.316663         43             1                 1   \n21450         0  343937.404131         67             1                 0   \n21451         1    2113.346888         38             1                 1   \n21452         3    3112.481705         38             1                 0   \n21453         2    1984.507589         40             1                 0   \n\n      gender income_type  debt  total_income                       purpose  \n0          F   сотрудник     0        253875                 покупка жилья  \n1          F   сотрудник     0        112080       приобретение автомобиля  \n2          M   сотрудник     0        145885                 покупка жилья  \n3          M   сотрудник     0        267628    дополнительное образование  \n4          F   пенсионер     0        158616               сыграть свадьбу  \n...      ...         ...   ...           ...                           ...  \n21449      F   компаньон     0        224791             операции с жильем  \n21450      F   пенсионер     0        155999          сделка с автомобилем  \n21451      M   сотрудник     1         89672                  недвижимость  \n21452      M   сотрудник     1        244093  на покупку своего автомобиля  \n21453      F   сотрудник     0         82047         на покупку автомобиля  \n\n[21454 rows x 10 columns]",
      "text/html": "<div>\n<style scoped>\n    .dataframe tbody tr th:only-of-type {\n        vertical-align: middle;\n    }\n\n    .dataframe tbody tr th {\n        vertical-align: top;\n    }\n\n    .dataframe thead th {\n        text-align: right;\n    }\n</style>\n<table border=\"1\" class=\"dataframe\">\n  <thead>\n    <tr style=\"text-align: right;\">\n      <th></th>\n      <th>children</th>\n      <th>days_employed</th>\n      <th>dob_years</th>\n      <th>education_id</th>\n      <th>family_status_id</th>\n      <th>gender</th>\n      <th>income_type</th>\n      <th>debt</th>\n      <th>total_income</th>\n      <th>purpose</th>\n    </tr>\n  </thead>\n  <tbody>\n    <tr>\n      <th>0</th>\n      <td>1</td>\n      <td>8437.673028</td>\n      <td>42</td>\n      <td>0</td>\n      <td>0</td>\n      <td>F</td>\n      <td>сотрудник</td>\n      <td>0</td>\n      <td>253875</td>\n      <td>покупка жилья</td>\n    </tr>\n    <tr>\n      <th>1</th>\n      <td>1</td>\n      <td>4024.803754</td>\n      <td>36</td>\n      <td>1</td>\n      <td>0</td>\n      <td>F</td>\n      <td>сотрудник</td>\n      <td>0</td>\n      <td>112080</td>\n      <td>приобретение автомобиля</td>\n    </tr>\n    <tr>\n      <th>2</th>\n      <td>0</td>\n      <td>5623.422610</td>\n      <td>33</td>\n      <td>1</td>\n      <td>0</td>\n      <td>M</td>\n      <td>сотрудник</td>\n      <td>0</td>\n      <td>145885</td>\n      <td>покупка жилья</td>\n    </tr>\n    <tr>\n      <th>3</th>\n      <td>3</td>\n      <td>4124.747207</td>\n      <td>32</td>\n      <td>1</td>\n      <td>0</td>\n      <td>M</td>\n      <td>сотрудник</td>\n      <td>0</td>\n      <td>267628</td>\n      <td>дополнительное образование</td>\n    </tr>\n    <tr>\n      <th>4</th>\n      <td>0</td>\n      <td>340266.072047</td>\n      <td>53</td>\n      <td>1</td>\n      <td>1</td>\n      <td>F</td>\n      <td>пенсионер</td>\n      <td>0</td>\n      <td>158616</td>\n      <td>сыграть свадьбу</td>\n    </tr>\n    <tr>\n      <th>...</th>\n      <td>...</td>\n      <td>...</td>\n      <td>...</td>\n      <td>...</td>\n      <td>...</td>\n      <td>...</td>\n      <td>...</td>\n      <td>...</td>\n      <td>...</td>\n      <td>...</td>\n    </tr>\n    <tr>\n      <th>21449</th>\n      <td>1</td>\n      <td>4529.316663</td>\n      <td>43</td>\n      <td>1</td>\n      <td>1</td>\n      <td>F</td>\n      <td>компаньон</td>\n      <td>0</td>\n      <td>224791</td>\n      <td>операции с жильем</td>\n    </tr>\n    <tr>\n      <th>21450</th>\n      <td>0</td>\n      <td>343937.404131</td>\n      <td>67</td>\n      <td>1</td>\n      <td>0</td>\n      <td>F</td>\n      <td>пенсионер</td>\n      <td>0</td>\n      <td>155999</td>\n      <td>сделка с автомобилем</td>\n    </tr>\n    <tr>\n      <th>21451</th>\n      <td>1</td>\n      <td>2113.346888</td>\n      <td>38</td>\n      <td>1</td>\n      <td>1</td>\n      <td>M</td>\n      <td>сотрудник</td>\n      <td>1</td>\n      <td>89672</td>\n      <td>недвижимость</td>\n    </tr>\n    <tr>\n      <th>21452</th>\n      <td>3</td>\n      <td>3112.481705</td>\n      <td>38</td>\n      <td>1</td>\n      <td>0</td>\n      <td>M</td>\n      <td>сотрудник</td>\n      <td>1</td>\n      <td>244093</td>\n      <td>на покупку своего автомобиля</td>\n    </tr>\n    <tr>\n      <th>21453</th>\n      <td>2</td>\n      <td>1984.507589</td>\n      <td>40</td>\n      <td>1</td>\n      <td>0</td>\n      <td>F</td>\n      <td>сотрудник</td>\n      <td>0</td>\n      <td>82047</td>\n      <td>на покупку автомобиля</td>\n    </tr>\n  </tbody>\n</table>\n<p>21454 rows × 10 columns</p>\n</div>"
     },
     "execution_count": 96,
     "metadata": {},
     "output_type": "execute_result"
    }
   ],
   "source": [
    "data"
   ],
   "metadata": {
    "collapsed": false,
    "ExecuteTime": {
     "end_time": "2024-05-28T13:44:01.806100900Z",
     "start_time": "2024-05-28T13:44:01.380854300Z"
    }
   },
   "id": "63495f7930f1686b"
  },
  {
   "cell_type": "markdown",
   "source": [
    "####  Вывод: столбцы education и family_status были удалены"
   ],
   "metadata": {
    "collapsed": false
   },
   "id": "db41349ceca4b8"
  },
  {
   "cell_type": "markdown",
   "source": [
    "### На основании диапазонов, указанных ниже, создадим столбец total_income_category с категориями:\n",
    "1) 0–30000 — 'E';\n",
    "2) 30001–50000 — 'D';\n",
    "3) 50001–200000 — 'C';\n",
    "4) 200001–1000000 — 'B';\n",
    "5) 1000001 и выше — 'A'."
   ],
   "metadata": {
    "collapsed": false
   },
   "id": "da5ce53b38e095e6"
  },
  {
   "cell_type": "code",
   "execution_count": 97,
   "outputs": [
    {
     "data": {
      "text/plain": "       children  days_employed  dob_years  education_id  family_status_id  \\\n0             1    8437.673028         42             0                 0   \n1             1    4024.803754         36             1                 0   \n2             0    5623.422610         33             1                 0   \n3             3    4124.747207         32             1                 0   \n4             0  340266.072047         53             1                 1   \n...         ...            ...        ...           ...               ...   \n21449         1    4529.316663         43             1                 1   \n21450         0  343937.404131         67             1                 0   \n21451         1    2113.346888         38             1                 1   \n21452         3    3112.481705         38             1                 0   \n21453         2    1984.507589         40             1                 0   \n\n      gender income_type  debt  total_income                       purpose  \\\n0          F   сотрудник     0        253875                 покупка жилья   \n1          F   сотрудник     0        112080       приобретение автомобиля   \n2          M   сотрудник     0        145885                 покупка жилья   \n3          M   сотрудник     0        267628    дополнительное образование   \n4          F   пенсионер     0        158616               сыграть свадьбу   \n...      ...         ...   ...           ...                           ...   \n21449      F   компаньон     0        224791             операции с жильем   \n21450      F   пенсионер     0        155999          сделка с автомобилем   \n21451      M   сотрудник     1         89672                  недвижимость   \n21452      M   сотрудник     1        244093  на покупку своего автомобиля   \n21453      F   сотрудник     0         82047         на покупку автомобиля   \n\n      total_income_category  \n0                         B  \n1                         C  \n2                         C  \n3                         B  \n4                         C  \n...                     ...  \n21449                     B  \n21450                     C  \n21451                     C  \n21452                     B  \n21453                     C  \n\n[21454 rows x 11 columns]",
      "text/html": "<div>\n<style scoped>\n    .dataframe tbody tr th:only-of-type {\n        vertical-align: middle;\n    }\n\n    .dataframe tbody tr th {\n        vertical-align: top;\n    }\n\n    .dataframe thead th {\n        text-align: right;\n    }\n</style>\n<table border=\"1\" class=\"dataframe\">\n  <thead>\n    <tr style=\"text-align: right;\">\n      <th></th>\n      <th>children</th>\n      <th>days_employed</th>\n      <th>dob_years</th>\n      <th>education_id</th>\n      <th>family_status_id</th>\n      <th>gender</th>\n      <th>income_type</th>\n      <th>debt</th>\n      <th>total_income</th>\n      <th>purpose</th>\n      <th>total_income_category</th>\n    </tr>\n  </thead>\n  <tbody>\n    <tr>\n      <th>0</th>\n      <td>1</td>\n      <td>8437.673028</td>\n      <td>42</td>\n      <td>0</td>\n      <td>0</td>\n      <td>F</td>\n      <td>сотрудник</td>\n      <td>0</td>\n      <td>253875</td>\n      <td>покупка жилья</td>\n      <td>B</td>\n    </tr>\n    <tr>\n      <th>1</th>\n      <td>1</td>\n      <td>4024.803754</td>\n      <td>36</td>\n      <td>1</td>\n      <td>0</td>\n      <td>F</td>\n      <td>сотрудник</td>\n      <td>0</td>\n      <td>112080</td>\n      <td>приобретение автомобиля</td>\n      <td>C</td>\n    </tr>\n    <tr>\n      <th>2</th>\n      <td>0</td>\n      <td>5623.422610</td>\n      <td>33</td>\n      <td>1</td>\n      <td>0</td>\n      <td>M</td>\n      <td>сотрудник</td>\n      <td>0</td>\n      <td>145885</td>\n      <td>покупка жилья</td>\n      <td>C</td>\n    </tr>\n    <tr>\n      <th>3</th>\n      <td>3</td>\n      <td>4124.747207</td>\n      <td>32</td>\n      <td>1</td>\n      <td>0</td>\n      <td>M</td>\n      <td>сотрудник</td>\n      <td>0</td>\n      <td>267628</td>\n      <td>дополнительное образование</td>\n      <td>B</td>\n    </tr>\n    <tr>\n      <th>4</th>\n      <td>0</td>\n      <td>340266.072047</td>\n      <td>53</td>\n      <td>1</td>\n      <td>1</td>\n      <td>F</td>\n      <td>пенсионер</td>\n      <td>0</td>\n      <td>158616</td>\n      <td>сыграть свадьбу</td>\n      <td>C</td>\n    </tr>\n    <tr>\n      <th>...</th>\n      <td>...</td>\n      <td>...</td>\n      <td>...</td>\n      <td>...</td>\n      <td>...</td>\n      <td>...</td>\n      <td>...</td>\n      <td>...</td>\n      <td>...</td>\n      <td>...</td>\n      <td>...</td>\n    </tr>\n    <tr>\n      <th>21449</th>\n      <td>1</td>\n      <td>4529.316663</td>\n      <td>43</td>\n      <td>1</td>\n      <td>1</td>\n      <td>F</td>\n      <td>компаньон</td>\n      <td>0</td>\n      <td>224791</td>\n      <td>операции с жильем</td>\n      <td>B</td>\n    </tr>\n    <tr>\n      <th>21450</th>\n      <td>0</td>\n      <td>343937.404131</td>\n      <td>67</td>\n      <td>1</td>\n      <td>0</td>\n      <td>F</td>\n      <td>пенсионер</td>\n      <td>0</td>\n      <td>155999</td>\n      <td>сделка с автомобилем</td>\n      <td>C</td>\n    </tr>\n    <tr>\n      <th>21451</th>\n      <td>1</td>\n      <td>2113.346888</td>\n      <td>38</td>\n      <td>1</td>\n      <td>1</td>\n      <td>M</td>\n      <td>сотрудник</td>\n      <td>1</td>\n      <td>89672</td>\n      <td>недвижимость</td>\n      <td>C</td>\n    </tr>\n    <tr>\n      <th>21452</th>\n      <td>3</td>\n      <td>3112.481705</td>\n      <td>38</td>\n      <td>1</td>\n      <td>0</td>\n      <td>M</td>\n      <td>сотрудник</td>\n      <td>1</td>\n      <td>244093</td>\n      <td>на покупку своего автомобиля</td>\n      <td>B</td>\n    </tr>\n    <tr>\n      <th>21453</th>\n      <td>2</td>\n      <td>1984.507589</td>\n      <td>40</td>\n      <td>1</td>\n      <td>0</td>\n      <td>F</td>\n      <td>сотрудник</td>\n      <td>0</td>\n      <td>82047</td>\n      <td>на покупку автомобиля</td>\n      <td>C</td>\n    </tr>\n  </tbody>\n</table>\n<p>21454 rows × 11 columns</p>\n</div>"
     },
     "execution_count": 97,
     "metadata": {},
     "output_type": "execute_result"
    }
   ],
   "source": [
    "def get_category(value: int) -> str:\n",
    "    if value <= 3*10**4:\n",
    "        return \"E\"\n",
    "    elif 3*10**4 < value <= 5*10**4:\n",
    "        return \"D\"\n",
    "    elif 5*10**4 < value <= 2*10**5:\n",
    "        return \"C\"\n",
    "    elif 2*10**5 < value <= 10**6:\n",
    "        return \"B\"\n",
    "    elif 10**6 < value:\n",
    "        return \"A\"\n",
    "    \n",
    "    \n",
    "data[\"total_income_category\"] = data[\"total_income\"].apply(get_category)\n",
    "data"
   ],
   "metadata": {
    "collapsed": false,
    "ExecuteTime": {
     "end_time": "2024-05-28T13:44:01.921793700Z",
     "start_time": "2024-05-28T13:44:01.489243200Z"
    }
   },
   "id": "bb7524865bebbd4a"
  },
  {
   "cell_type": "markdown",
   "source": [
    "#### Вывод: Мы разделили клиентов на классы от E до A"
   ],
   "metadata": {
    "collapsed": false
   },
   "id": "f15f96cb882f2298"
  },
  {
   "cell_type": "markdown",
   "source": [
    "### Создадим функцию, которая на основании данных из столбца purpose сформирует новый столбец purpose_category, в который войдут следующие категории:\n",
    "1. операции с автомобилем\n",
    "2. операции с недвижимостью\n",
    "3. проведение свадьбы\n",
    "4. получение образования\n"
   ],
   "metadata": {
    "collapsed": false
   },
   "id": "8c7c83b20db99de6"
  },
  {
   "cell_type": "code",
   "execution_count": 98,
   "outputs": [
    {
     "data": {
      "text/plain": "       children  days_employed  dob_years  education_id  family_status_id  \\\n0             1    8437.673028         42             0                 0   \n1             1    4024.803754         36             1                 0   \n2             0    5623.422610         33             1                 0   \n3             3    4124.747207         32             1                 0   \n4             0  340266.072047         53             1                 1   \n...         ...            ...        ...           ...               ...   \n21449         1    4529.316663         43             1                 1   \n21450         0  343937.404131         67             1                 0   \n21451         1    2113.346888         38             1                 1   \n21452         3    3112.481705         38             1                 0   \n21453         2    1984.507589         40             1                 0   \n\n      gender income_type  debt  total_income                       purpose  \\\n0          F   сотрудник     0        253875                 покупка жилья   \n1          F   сотрудник     0        112080       приобретение автомобиля   \n2          M   сотрудник     0        145885                 покупка жилья   \n3          M   сотрудник     0        267628    дополнительное образование   \n4          F   пенсионер     0        158616               сыграть свадьбу   \n...      ...         ...   ...           ...                           ...   \n21449      F   компаньон     0        224791             операции с жильем   \n21450      F   пенсионер     0        155999          сделка с автомобилем   \n21451      M   сотрудник     1         89672                  недвижимость   \n21452      M   сотрудник     1        244093  на покупку своего автомобиля   \n21453      F   сотрудник     0         82047         на покупку автомобиля   \n\n      total_income_category          purpose_category  \n0                         B  операции с недвижимостью  \n1                         C    операции с автомобилем  \n2                         C  операции с недвижимостью  \n3                         B     получение образования  \n4                         C        проведение свадьбы  \n...                     ...                       ...  \n21449                     B  операции с недвижимостью  \n21450                     C    операции с автомобилем  \n21451                     C  операции с недвижимостью  \n21452                     B    операции с автомобилем  \n21453                     C    операции с автомобилем  \n\n[21454 rows x 12 columns]",
      "text/html": "<div>\n<style scoped>\n    .dataframe tbody tr th:only-of-type {\n        vertical-align: middle;\n    }\n\n    .dataframe tbody tr th {\n        vertical-align: top;\n    }\n\n    .dataframe thead th {\n        text-align: right;\n    }\n</style>\n<table border=\"1\" class=\"dataframe\">\n  <thead>\n    <tr style=\"text-align: right;\">\n      <th></th>\n      <th>children</th>\n      <th>days_employed</th>\n      <th>dob_years</th>\n      <th>education_id</th>\n      <th>family_status_id</th>\n      <th>gender</th>\n      <th>income_type</th>\n      <th>debt</th>\n      <th>total_income</th>\n      <th>purpose</th>\n      <th>total_income_category</th>\n      <th>purpose_category</th>\n    </tr>\n  </thead>\n  <tbody>\n    <tr>\n      <th>0</th>\n      <td>1</td>\n      <td>8437.673028</td>\n      <td>42</td>\n      <td>0</td>\n      <td>0</td>\n      <td>F</td>\n      <td>сотрудник</td>\n      <td>0</td>\n      <td>253875</td>\n      <td>покупка жилья</td>\n      <td>B</td>\n      <td>операции с недвижимостью</td>\n    </tr>\n    <tr>\n      <th>1</th>\n      <td>1</td>\n      <td>4024.803754</td>\n      <td>36</td>\n      <td>1</td>\n      <td>0</td>\n      <td>F</td>\n      <td>сотрудник</td>\n      <td>0</td>\n      <td>112080</td>\n      <td>приобретение автомобиля</td>\n      <td>C</td>\n      <td>операции с автомобилем</td>\n    </tr>\n    <tr>\n      <th>2</th>\n      <td>0</td>\n      <td>5623.422610</td>\n      <td>33</td>\n      <td>1</td>\n      <td>0</td>\n      <td>M</td>\n      <td>сотрудник</td>\n      <td>0</td>\n      <td>145885</td>\n      <td>покупка жилья</td>\n      <td>C</td>\n      <td>операции с недвижимостью</td>\n    </tr>\n    <tr>\n      <th>3</th>\n      <td>3</td>\n      <td>4124.747207</td>\n      <td>32</td>\n      <td>1</td>\n      <td>0</td>\n      <td>M</td>\n      <td>сотрудник</td>\n      <td>0</td>\n      <td>267628</td>\n      <td>дополнительное образование</td>\n      <td>B</td>\n      <td>получение образования</td>\n    </tr>\n    <tr>\n      <th>4</th>\n      <td>0</td>\n      <td>340266.072047</td>\n      <td>53</td>\n      <td>1</td>\n      <td>1</td>\n      <td>F</td>\n      <td>пенсионер</td>\n      <td>0</td>\n      <td>158616</td>\n      <td>сыграть свадьбу</td>\n      <td>C</td>\n      <td>проведение свадьбы</td>\n    </tr>\n    <tr>\n      <th>...</th>\n      <td>...</td>\n      <td>...</td>\n      <td>...</td>\n      <td>...</td>\n      <td>...</td>\n      <td>...</td>\n      <td>...</td>\n      <td>...</td>\n      <td>...</td>\n      <td>...</td>\n      <td>...</td>\n      <td>...</td>\n    </tr>\n    <tr>\n      <th>21449</th>\n      <td>1</td>\n      <td>4529.316663</td>\n      <td>43</td>\n      <td>1</td>\n      <td>1</td>\n      <td>F</td>\n      <td>компаньон</td>\n      <td>0</td>\n      <td>224791</td>\n      <td>операции с жильем</td>\n      <td>B</td>\n      <td>операции с недвижимостью</td>\n    </tr>\n    <tr>\n      <th>21450</th>\n      <td>0</td>\n      <td>343937.404131</td>\n      <td>67</td>\n      <td>1</td>\n      <td>0</td>\n      <td>F</td>\n      <td>пенсионер</td>\n      <td>0</td>\n      <td>155999</td>\n      <td>сделка с автомобилем</td>\n      <td>C</td>\n      <td>операции с автомобилем</td>\n    </tr>\n    <tr>\n      <th>21451</th>\n      <td>1</td>\n      <td>2113.346888</td>\n      <td>38</td>\n      <td>1</td>\n      <td>1</td>\n      <td>M</td>\n      <td>сотрудник</td>\n      <td>1</td>\n      <td>89672</td>\n      <td>недвижимость</td>\n      <td>C</td>\n      <td>операции с недвижимостью</td>\n    </tr>\n    <tr>\n      <th>21452</th>\n      <td>3</td>\n      <td>3112.481705</td>\n      <td>38</td>\n      <td>1</td>\n      <td>0</td>\n      <td>M</td>\n      <td>сотрудник</td>\n      <td>1</td>\n      <td>244093</td>\n      <td>на покупку своего автомобиля</td>\n      <td>B</td>\n      <td>операции с автомобилем</td>\n    </tr>\n    <tr>\n      <th>21453</th>\n      <td>2</td>\n      <td>1984.507589</td>\n      <td>40</td>\n      <td>1</td>\n      <td>0</td>\n      <td>F</td>\n      <td>сотрудник</td>\n      <td>0</td>\n      <td>82047</td>\n      <td>на покупку автомобиля</td>\n      <td>C</td>\n      <td>операции с автомобилем</td>\n    </tr>\n  </tbody>\n</table>\n<p>21454 rows × 12 columns</p>\n</div>"
     },
     "execution_count": 98,
     "metadata": {},
     "output_type": "execute_result"
    }
   ],
   "source": [
    "def get_category_purpose(string: str) -> str:\n",
    "    string = string.lower()\n",
    "    \n",
    "    if \"недвижимость\" in string or \"жиль\" in string:\n",
    "        return \"операции с недвижимостью\"\n",
    "    elif \"автомобил\" in string:\n",
    "        return \"операции с автомобилем\"\n",
    "    elif \"свадьб\" in string:\n",
    "        return \"проведение свадьбы\"\n",
    "    elif \"образовани\" in string:\n",
    "        return \"получение образования\"\n",
    "    return \"\"\n",
    "    \n",
    "    \n",
    "    \n",
    "data[\"purpose_category\"] = data[\"purpose\"].apply(get_category_purpose)\n",
    "data"
   ],
   "metadata": {
    "collapsed": false,
    "ExecuteTime": {
     "end_time": "2024-05-28T13:44:01.924787100Z",
     "start_time": "2024-05-28T13:44:01.570027100Z"
    }
   },
   "id": "d586ade41ec50985"
  },
  {
   "cell_type": "markdown",
   "source": [
    "#### Вывод: Мы разбили на 4 категории запросы"
   ],
   "metadata": {
    "collapsed": false
   },
   "id": "5789197e4d192da1"
  },
  {
   "cell_type": "markdown",
   "source": [
    "## Шаг 3. Ответьте на вопросы\n",
    "1) Есть ли зависимость между количеством детей и возвратом кредита в срок?\n",
    "2) Есть ли зависимость между семейным положением и возвратом кредита в срок?\n",
    "3) Есть ли зависимость между уровнем дохода и возвратом кредита в срок?\n",
    "4) Как разные цели кредита влияют на его возврат в срок?"
   ],
   "metadata": {
    "collapsed": false
   },
   "id": "4fa6542fd0feafb8"
  },
  {
   "cell_type": "markdown",
   "source": [
    "#### 1.Есть ли зависимость между количеством детей и возвратом кредита в срок?"
   ],
   "metadata": {
    "collapsed": false
   },
   "id": "78fc5fe87ea45cd5"
  },
  {
   "cell_type": "markdown",
   "source": [
    "#### Разделим людей на 2 группы:\n",
    "1) С задолжностью\n",
    "2) Без задолжностей"
   ],
   "metadata": {
    "collapsed": false
   },
   "id": "f154b0c407b8a870"
  },
  {
   "cell_type": "code",
   "execution_count": 98,
   "outputs": [],
   "source": [],
   "metadata": {
    "collapsed": false,
    "ExecuteTime": {
     "end_time": "2024-05-28T13:44:01.925783300Z",
     "start_time": "2024-05-28T13:44:01.691746600Z"
    }
   },
   "id": "3aed1ffda5ddeb55"
  },
  {
   "cell_type": "code",
   "execution_count": 99,
   "outputs": [
    {
     "data": {
      "text/plain": "children  debt\n0         0       0.924562\n          1       0.075438\n1         0       0.908342\n          1       0.091658\n2         0       0.905458\n          1       0.094542\n3         0       0.918182\n          1       0.081818\n4         0       0.902439\n          1       0.097561\n5         0       1.000000\n20        0       0.894737\n          1       0.105263\nName: proportion, dtype: float64"
     },
     "execution_count": 99,
     "metadata": {},
     "output_type": "execute_result"
    }
   ],
   "source": [
    "debt_people = data.groupby(\"children\")[\"debt\"].value_counts(normalize=True)\n",
    "debt_people"
   ],
   "metadata": {
    "collapsed": false,
    "ExecuteTime": {
     "end_time": "2024-05-28T13:44:01.996590900Z",
     "start_time": "2024-05-28T13:44:01.706611600Z"
    }
   },
   "id": "22212d2550f454ac"
  },
  {
   "cell_type": "markdown",
   "source": [
    "#### Вывод: Как мы видим наличие детей и их количество не сильно влияет статистически на погашение кредита в срок"
   ],
   "metadata": {
    "collapsed": false
   },
   "id": "cbcfed9a828eef67"
  },
  {
   "cell_type": "markdown",
   "source": [
    "### 2. Есть ли зависимость между семейным положением и возвратом кредита в срок?"
   ],
   "metadata": {
    "collapsed": false
   },
   "id": "88903e9c74f2973f"
  },
  {
   "cell_type": "code",
   "execution_count": 100,
   "outputs": [
    {
     "data": {
      "text/plain": "family_status_id  debt\n0                 0       0.924548\n                  1       0.075452\n1                 0       0.906529\n                  1       0.093471\n2                 0       0.934307\n                  1       0.065693\n3                 0       0.928870\n                  1       0.071130\n4                 0       0.902491\n                  1       0.097509\nName: proportion, dtype: float64"
     },
     "execution_count": 100,
     "metadata": {},
     "output_type": "execute_result"
    }
   ],
   "source": [
    "debt_of_family = data.groupby(\"family_status_id\")[\"debt\"].value_counts(normalize=True)\n",
    "debt_of_family"
   ],
   "metadata": {
    "collapsed": false,
    "ExecuteTime": {
     "end_time": "2024-05-28T13:44:02.122159200Z",
     "start_time": "2024-05-28T13:44:01.775184300Z"
    }
   },
   "id": "e61addb5b27a4147"
  },
  {
   "cell_type": "markdown",
   "source": [
    "#### Вывод: Как мы видим зависимость между семейным статусом и погашением кредита во-время нет.  "
   ],
   "metadata": {
    "collapsed": false
   },
   "id": "d9e12f65bc7af925"
  },
  {
   "cell_type": "markdown",
   "source": [
    "### 3. Есть ли зависимость между уровнем дохода и возвратом кредита в срок?"
   ],
   "metadata": {
    "collapsed": false
   },
   "id": "eba5c4a8ce23cb16"
  },
  {
   "cell_type": "code",
   "execution_count": 101,
   "outputs": [
    {
     "data": {
      "text/plain": "total_income_category  debt\nA                      0       0.920000\n                       1       0.080000\nB                      0       0.929379\n                       1       0.070621\nC                      0       0.915085\n                       1       0.084915\nD                      0       0.940000\n                       1       0.060000\nE                      0       0.909091\n                       1       0.090909\nName: proportion, dtype: float64"
     },
     "execution_count": 101,
     "metadata": {},
     "output_type": "execute_result"
    }
   ],
   "source": [
    "debt_total_income = data.groupby(\"total_income_category\")[\"debt\"].value_counts(normalize=True)\n",
    "debt_total_income"
   ],
   "metadata": {
    "collapsed": false,
    "ExecuteTime": {
     "end_time": "2024-05-28T13:44:02.286768Z",
     "start_time": "2024-05-28T13:44:01.865941200Z"
    }
   },
   "id": "c3450eba9a87c6e6"
  },
  {
   "cell_type": "markdown",
   "source": [
    "#### Вывод: Как мы видим зависимость между уровнем дохода и погашением кредита во-время нет.  \n"
   ],
   "metadata": {
    "collapsed": false
   },
   "id": "6f7717b78a9a2094"
  },
  {
   "cell_type": "markdown",
   "source": [
    "### 4. Как разные цели кредита влияют на его возврат в срок?\n"
   ],
   "metadata": {
    "collapsed": false
   },
   "id": "7d78232d93d4bdaf"
  },
  {
   "cell_type": "code",
   "execution_count": 102,
   "outputs": [
    {
     "data": {
      "text/plain": "purpose_category          debt\n                          0       0.926978\n                          1       0.073022\nоперации с автомобилем    0       0.906410\n                          1       0.093590\nоперации с недвижимостью  0       0.928034\n                          1       0.071966\nполучение образования     0       0.907800\n                          1       0.092200\nпроведение свадьбы        0       0.919966\n                          1       0.080034\nName: proportion, dtype: float64"
     },
     "execution_count": 102,
     "metadata": {},
     "output_type": "execute_result"
    }
   ],
   "source": [
    "debt_purpose_category = data.groupby(\"purpose_category\")[\"debt\"].value_counts(normalize=True)\n",
    "debt_purpose_category"
   ],
   "metadata": {
    "collapsed": false,
    "ExecuteTime": {
     "end_time": "2024-05-28T13:44:02.388747600Z",
     "start_time": "2024-05-28T13:44:01.961685400Z"
    }
   },
   "id": "d8ca26f83b38dec6"
  },
  {
   "cell_type": "markdown",
   "source": [
    "#### Вывод: Как мы видим зависимость между целью заема и погашением кредита во-время нет  \n"
   ],
   "metadata": {
    "collapsed": false
   },
   "id": "dbd1d69fe9c92f5a"
  }
 ],
 "metadata": {
  "kernelspec": {
   "display_name": "Python 3 (ipykernel)",
   "language": "python",
   "name": "python3"
  },
  "language_info": {
   "codemirror_mode": {
    "name": "ipython",
    "version": 3
   },
   "file_extension": ".py",
   "mimetype": "text/x-python",
   "name": "python",
   "nbconvert_exporter": "python",
   "pygments_lexer": "ipython3",
   "version": "3.9.19"
  }
 },
 "nbformat": 4,
 "nbformat_minor": 5
}

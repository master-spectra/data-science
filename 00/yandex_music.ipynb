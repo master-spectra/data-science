{
 "cells": [
  {
   "cell_type": "code",
   "execution_count": 35,
   "id": "d25c4dddb0f3db35",
   "metadata": {
    "collapsed": false,
    "ExecuteTime": {
     "end_time": "2024-05-16T06:18:40.913707700Z",
     "start_time": "2024-05-16T06:18:40.752166400Z"
    }
   },
   "outputs": [],
   "source": [
    "import pandas as pd\n"
   ]
  },
  {
   "cell_type": "code",
   "execution_count": 36,
   "id": "d608c9316e0ce2d",
   "metadata": {
    "collapsed": false,
    "ExecuteTime": {
     "end_time": "2024-05-16T06:18:41.181955300Z",
     "start_time": "2024-05-16T06:18:40.763138500Z"
    }
   },
   "outputs": [
    {
     "data": {
      "text/plain": "     userID                        Track            artist  genre  \\\n0  FFB692EC            Kamigata To Boots  The Mass Missile   rock   \n1  55204538  Delayed Because of Accident  Andreas Rönnberg   rock   \n2    20EC38            Funiculì funiculà       Mario Lanza    pop   \n3  A3DD03C9        Dragons in the Sunset        Fire + Ice   folk   \n4  E2DC1FAE                  Soul People        Space Echo  dance   \n\n             City        time        Day  \n0  Saint-Petersburg  20:28:33  Wednesday  \n1            Moscow  14:07:09     Friday  \n2  Saint-Petersburg  20:58:07  Wednesday  \n3  Saint-Petersburg  08:37:09     Monday  \n4            Moscow  08:34:34     Monday  ",
      "text/html": "<div>\n<style scoped>\n    .dataframe tbody tr th:only-of-type {\n        vertical-align: middle;\n    }\n\n    .dataframe tbody tr th {\n        vertical-align: top;\n    }\n\n    .dataframe thead th {\n        text-align: right;\n    }\n</style>\n<table border=\"1\" class=\"dataframe\">\n  <thead>\n    <tr style=\"text-align: right;\">\n      <th></th>\n      <th>userID</th>\n      <th>Track</th>\n      <th>artist</th>\n      <th>genre</th>\n      <th>City</th>\n      <th>time</th>\n      <th>Day</th>\n    </tr>\n  </thead>\n  <tbody>\n    <tr>\n      <th>0</th>\n      <td>FFB692EC</td>\n      <td>Kamigata To Boots</td>\n      <td>The Mass Missile</td>\n      <td>rock</td>\n      <td>Saint-Petersburg</td>\n      <td>20:28:33</td>\n      <td>Wednesday</td>\n    </tr>\n    <tr>\n      <th>1</th>\n      <td>55204538</td>\n      <td>Delayed Because of Accident</td>\n      <td>Andreas Rönnberg</td>\n      <td>rock</td>\n      <td>Moscow</td>\n      <td>14:07:09</td>\n      <td>Friday</td>\n    </tr>\n    <tr>\n      <th>2</th>\n      <td>20EC38</td>\n      <td>Funiculì funiculà</td>\n      <td>Mario Lanza</td>\n      <td>pop</td>\n      <td>Saint-Petersburg</td>\n      <td>20:58:07</td>\n      <td>Wednesday</td>\n    </tr>\n    <tr>\n      <th>3</th>\n      <td>A3DD03C9</td>\n      <td>Dragons in the Sunset</td>\n      <td>Fire + Ice</td>\n      <td>folk</td>\n      <td>Saint-Petersburg</td>\n      <td>08:37:09</td>\n      <td>Monday</td>\n    </tr>\n    <tr>\n      <th>4</th>\n      <td>E2DC1FAE</td>\n      <td>Soul People</td>\n      <td>Space Echo</td>\n      <td>dance</td>\n      <td>Moscow</td>\n      <td>08:34:34</td>\n      <td>Monday</td>\n    </tr>\n  </tbody>\n</table>\n</div>"
     },
     "execution_count": 36,
     "metadata": {},
     "output_type": "execute_result"
    }
   ],
   "source": [
    "data = pd.read_csv(\"./yandex_music_project.csv\")\n",
    "data.head()"
   ]
  },
  {
   "cell_type": "code",
   "execution_count": 37,
   "id": "58caafe2de8e3691",
   "metadata": {
    "collapsed": false,
    "ExecuteTime": {
     "end_time": "2024-05-16T06:18:41.261743400Z",
     "start_time": "2024-05-16T06:18:41.215865300Z"
    }
   },
   "outputs": [
    {
     "name": "stdout",
     "output_type": "stream",
     "text": [
      "<class 'pandas.core.frame.DataFrame'>\n",
      "RangeIndex: 65079 entries, 0 to 65078\n",
      "Data columns (total 7 columns):\n",
      " #   Column    Non-Null Count  Dtype \n",
      "---  ------    --------------  ----- \n",
      " 0     userID  65079 non-null  object\n",
      " 1   Track     63848 non-null  object\n",
      " 2   artist    57876 non-null  object\n",
      " 3   genre     63881 non-null  object\n",
      " 4     City    65079 non-null  object\n",
      " 5   time      65079 non-null  object\n",
      " 6   Day       65079 non-null  object\n",
      "dtypes: object(7)\n",
      "memory usage: 3.5+ MB\n"
     ]
    }
   ],
   "source": [
    "data.info()"
   ]
  },
  {
   "cell_type": "markdown",
   "id": "fede0cbf72572256",
   "metadata": {
    "collapsed": false
   },
   "source": [
    "## Вывод:\n",
    "1) Столбцы не правильно названы - Решение: Переименовать столбцы в змеином регистре\n",
    "2) Есть ячейки с пропущенными данными - Решение: Удалить данные ячейки так как для проверки гипотез они бесполезны"
   ]
  },
  {
   "cell_type": "markdown",
   "id": "4ff2ab3da423c8b",
   "metadata": {
    "collapsed": false
   },
   "source": [
    "# Пред обработка данных:\n",
    "   1) Переименование столбцов:"
   ]
  },
  {
   "cell_type": "code",
   "execution_count": 38,
   "id": "cdf33d624f6b35d4",
   "metadata": {
    "collapsed": false,
    "ExecuteTime": {
     "end_time": "2024-05-16T06:18:41.440264100Z",
     "start_time": "2024-05-16T06:18:41.236809200Z"
    }
   },
   "outputs": [
    {
     "data": {
      "text/plain": "    user_id                   track_name            artist genre_name  \\\n0  FFB692EC            Kamigata To Boots  The Mass Missile       rock   \n1  55204538  Delayed Because of Accident  Andreas Rönnberg       rock   \n2    20EC38            Funiculì funiculà       Mario Lanza        pop   \n3  A3DD03C9        Dragons in the Sunset        Fire + Ice       folk   \n4  E2DC1FAE                  Soul People        Space Echo      dance   \n\n               city time_of_day        day  \n0  Saint-Petersburg    20:28:33  Wednesday  \n1            Moscow    14:07:09     Friday  \n2  Saint-Petersburg    20:58:07  Wednesday  \n3  Saint-Petersburg    08:37:09     Monday  \n4            Moscow    08:34:34     Monday  ",
      "text/html": "<div>\n<style scoped>\n    .dataframe tbody tr th:only-of-type {\n        vertical-align: middle;\n    }\n\n    .dataframe tbody tr th {\n        vertical-align: top;\n    }\n\n    .dataframe thead th {\n        text-align: right;\n    }\n</style>\n<table border=\"1\" class=\"dataframe\">\n  <thead>\n    <tr style=\"text-align: right;\">\n      <th></th>\n      <th>user_id</th>\n      <th>track_name</th>\n      <th>artist</th>\n      <th>genre_name</th>\n      <th>city</th>\n      <th>time_of_day</th>\n      <th>day</th>\n    </tr>\n  </thead>\n  <tbody>\n    <tr>\n      <th>0</th>\n      <td>FFB692EC</td>\n      <td>Kamigata To Boots</td>\n      <td>The Mass Missile</td>\n      <td>rock</td>\n      <td>Saint-Petersburg</td>\n      <td>20:28:33</td>\n      <td>Wednesday</td>\n    </tr>\n    <tr>\n      <th>1</th>\n      <td>55204538</td>\n      <td>Delayed Because of Accident</td>\n      <td>Andreas Rönnberg</td>\n      <td>rock</td>\n      <td>Moscow</td>\n      <td>14:07:09</td>\n      <td>Friday</td>\n    </tr>\n    <tr>\n      <th>2</th>\n      <td>20EC38</td>\n      <td>Funiculì funiculà</td>\n      <td>Mario Lanza</td>\n      <td>pop</td>\n      <td>Saint-Petersburg</td>\n      <td>20:58:07</td>\n      <td>Wednesday</td>\n    </tr>\n    <tr>\n      <th>3</th>\n      <td>A3DD03C9</td>\n      <td>Dragons in the Sunset</td>\n      <td>Fire + Ice</td>\n      <td>folk</td>\n      <td>Saint-Petersburg</td>\n      <td>08:37:09</td>\n      <td>Monday</td>\n    </tr>\n    <tr>\n      <th>4</th>\n      <td>E2DC1FAE</td>\n      <td>Soul People</td>\n      <td>Space Echo</td>\n      <td>dance</td>\n      <td>Moscow</td>\n      <td>08:34:34</td>\n      <td>Monday</td>\n    </tr>\n  </tbody>\n</table>\n</div>"
     },
     "execution_count": 38,
     "metadata": {},
     "output_type": "execute_result"
    }
   ],
   "source": [
    "data = data.rename(columns={\"  userID\": \"user_id\", \"Track\": \"track_name\", \"genre\": 'genre_name', \"  City  \": \"city\", \"time\": \"time_of_day\", \"Day\": \"day\"})\n",
    "\n",
    "data.head()"
   ]
  },
  {
   "cell_type": "markdown",
   "id": "9a1aaa40c7a8e009",
   "metadata": {
    "collapsed": false
   },
   "source": [
    "   2) Удаление ячеек со значениями None "
   ]
  },
  {
   "cell_type": "code",
   "execution_count": 39,
   "id": "fe57db39d0a6e57d",
   "metadata": {
    "collapsed": false,
    "ExecuteTime": {
     "end_time": "2024-05-16T06:18:41.619817700Z",
     "start_time": "2024-05-16T06:18:41.344521400Z"
    }
   },
   "outputs": [
    {
     "data": {
      "text/plain": "    user_id                   track_name            artist genre_name  \\\n0  FFB692EC            Kamigata To Boots  The Mass Missile       rock   \n1  55204538  Delayed Because of Accident  Andreas Rönnberg       rock   \n2    20EC38            Funiculì funiculà       Mario Lanza        pop   \n3  A3DD03C9        Dragons in the Sunset        Fire + Ice       folk   \n4  E2DC1FAE                  Soul People        Space Echo      dance   \n\n               city time_of_day        day  \n0  Saint-Petersburg    20:28:33  Wednesday  \n1            Moscow    14:07:09     Friday  \n2  Saint-Petersburg    20:58:07  Wednesday  \n3  Saint-Petersburg    08:37:09     Monday  \n4            Moscow    08:34:34     Monday  ",
      "text/html": "<div>\n<style scoped>\n    .dataframe tbody tr th:only-of-type {\n        vertical-align: middle;\n    }\n\n    .dataframe tbody tr th {\n        vertical-align: top;\n    }\n\n    .dataframe thead th {\n        text-align: right;\n    }\n</style>\n<table border=\"1\" class=\"dataframe\">\n  <thead>\n    <tr style=\"text-align: right;\">\n      <th></th>\n      <th>user_id</th>\n      <th>track_name</th>\n      <th>artist</th>\n      <th>genre_name</th>\n      <th>city</th>\n      <th>time_of_day</th>\n      <th>day</th>\n    </tr>\n  </thead>\n  <tbody>\n    <tr>\n      <th>0</th>\n      <td>FFB692EC</td>\n      <td>Kamigata To Boots</td>\n      <td>The Mass Missile</td>\n      <td>rock</td>\n      <td>Saint-Petersburg</td>\n      <td>20:28:33</td>\n      <td>Wednesday</td>\n    </tr>\n    <tr>\n      <th>1</th>\n      <td>55204538</td>\n      <td>Delayed Because of Accident</td>\n      <td>Andreas Rönnberg</td>\n      <td>rock</td>\n      <td>Moscow</td>\n      <td>14:07:09</td>\n      <td>Friday</td>\n    </tr>\n    <tr>\n      <th>2</th>\n      <td>20EC38</td>\n      <td>Funiculì funiculà</td>\n      <td>Mario Lanza</td>\n      <td>pop</td>\n      <td>Saint-Petersburg</td>\n      <td>20:58:07</td>\n      <td>Wednesday</td>\n    </tr>\n    <tr>\n      <th>3</th>\n      <td>A3DD03C9</td>\n      <td>Dragons in the Sunset</td>\n      <td>Fire + Ice</td>\n      <td>folk</td>\n      <td>Saint-Petersburg</td>\n      <td>08:37:09</td>\n      <td>Monday</td>\n    </tr>\n    <tr>\n      <th>4</th>\n      <td>E2DC1FAE</td>\n      <td>Soul People</td>\n      <td>Space Echo</td>\n      <td>dance</td>\n      <td>Moscow</td>\n      <td>08:34:34</td>\n      <td>Monday</td>\n    </tr>\n  </tbody>\n</table>\n</div>"
     },
     "execution_count": 39,
     "metadata": {},
     "output_type": "execute_result"
    }
   ],
   "source": [
    "data = data.dropna(axis=0).reset_index(drop=True)\n",
    "data.head()"
   ]
  },
  {
   "cell_type": "markdown",
   "id": "9012cd91d518b849",
   "metadata": {
    "collapsed": false
   },
   "source": [
    "### Вывод: все пропущенные ячейки были удалены\n",
    "\n",
    "### Обработка дубликатов:"
   ]
  },
  {
   "cell_type": "code",
   "execution_count": 40,
   "id": "4be27edf1e8e2b98",
   "metadata": {
    "collapsed": false,
    "ExecuteTime": {
     "end_time": "2024-05-16T06:18:41.759411Z",
     "start_time": "2024-05-16T06:18:41.514067900Z"
    }
   },
   "outputs": [],
   "source": [
    "data = data.drop_duplicates().reset_index(drop=True)"
   ]
  },
  {
   "cell_type": "code",
   "execution_count": 41,
   "id": "397eaebf6080839b",
   "metadata": {
    "collapsed": false,
    "ExecuteTime": {
     "end_time": "2024-05-16T06:18:41.904055100Z",
     "start_time": "2024-05-16T06:18:41.691592200Z"
    }
   },
   "outputs": [
    {
     "data": {
      "text/plain": "        user_id                         track_name                   artist  \\\n0      FFB692EC                  Kamigata To Boots         The Mass Missile   \n1      55204538        Delayed Because of Accident         Andreas Rönnberg   \n2        20EC38                  Funiculì funiculà              Mario Lanza   \n3      A3DD03C9              Dragons in the Sunset               Fire + Ice   \n4      E2DC1FAE                        Soul People               Space Echo   \n...         ...                                ...                      ...   \n54131  83A474E7      I Worship Only What You Bleed  The Black Dahlia Murder   \n54132  729CBB09                            My Name                   McLean   \n54133  D08D4A55  Maybe One Day (feat. Black Spade)              Blu & Exile   \n54134  321D0506                      Freight Train            Chas McDevitt   \n54135  3A64EF84          Tell Me Sweet Little Lies             Monica Lopez   \n\n         genre_name              city time_of_day        day  \n0              rock  Saint-Petersburg    20:28:33  Wednesday  \n1              rock            Moscow    14:07:09     Friday  \n2               pop  Saint-Petersburg    20:58:07  Wednesday  \n3              folk  Saint-Petersburg    08:37:09     Monday  \n4             dance            Moscow    08:34:34     Monday  \n...             ...               ...         ...        ...  \n54131  extrememetal            Moscow    21:07:12     Monday  \n54132           rnb            Moscow    13:32:28  Wednesday  \n54133           hip  Saint-Petersburg    10:00:00     Monday  \n54134          rock            Moscow    21:43:59     Friday  \n54135       country            Moscow    21:59:46     Friday  \n\n[54136 rows x 7 columns]",
      "text/html": "<div>\n<style scoped>\n    .dataframe tbody tr th:only-of-type {\n        vertical-align: middle;\n    }\n\n    .dataframe tbody tr th {\n        vertical-align: top;\n    }\n\n    .dataframe thead th {\n        text-align: right;\n    }\n</style>\n<table border=\"1\" class=\"dataframe\">\n  <thead>\n    <tr style=\"text-align: right;\">\n      <th></th>\n      <th>user_id</th>\n      <th>track_name</th>\n      <th>artist</th>\n      <th>genre_name</th>\n      <th>city</th>\n      <th>time_of_day</th>\n      <th>day</th>\n    </tr>\n  </thead>\n  <tbody>\n    <tr>\n      <th>0</th>\n      <td>FFB692EC</td>\n      <td>Kamigata To Boots</td>\n      <td>The Mass Missile</td>\n      <td>rock</td>\n      <td>Saint-Petersburg</td>\n      <td>20:28:33</td>\n      <td>Wednesday</td>\n    </tr>\n    <tr>\n      <th>1</th>\n      <td>55204538</td>\n      <td>Delayed Because of Accident</td>\n      <td>Andreas Rönnberg</td>\n      <td>rock</td>\n      <td>Moscow</td>\n      <td>14:07:09</td>\n      <td>Friday</td>\n    </tr>\n    <tr>\n      <th>2</th>\n      <td>20EC38</td>\n      <td>Funiculì funiculà</td>\n      <td>Mario Lanza</td>\n      <td>pop</td>\n      <td>Saint-Petersburg</td>\n      <td>20:58:07</td>\n      <td>Wednesday</td>\n    </tr>\n    <tr>\n      <th>3</th>\n      <td>A3DD03C9</td>\n      <td>Dragons in the Sunset</td>\n      <td>Fire + Ice</td>\n      <td>folk</td>\n      <td>Saint-Petersburg</td>\n      <td>08:37:09</td>\n      <td>Monday</td>\n    </tr>\n    <tr>\n      <th>4</th>\n      <td>E2DC1FAE</td>\n      <td>Soul People</td>\n      <td>Space Echo</td>\n      <td>dance</td>\n      <td>Moscow</td>\n      <td>08:34:34</td>\n      <td>Monday</td>\n    </tr>\n    <tr>\n      <th>...</th>\n      <td>...</td>\n      <td>...</td>\n      <td>...</td>\n      <td>...</td>\n      <td>...</td>\n      <td>...</td>\n      <td>...</td>\n    </tr>\n    <tr>\n      <th>54131</th>\n      <td>83A474E7</td>\n      <td>I Worship Only What You Bleed</td>\n      <td>The Black Dahlia Murder</td>\n      <td>extrememetal</td>\n      <td>Moscow</td>\n      <td>21:07:12</td>\n      <td>Monday</td>\n    </tr>\n    <tr>\n      <th>54132</th>\n      <td>729CBB09</td>\n      <td>My Name</td>\n      <td>McLean</td>\n      <td>rnb</td>\n      <td>Moscow</td>\n      <td>13:32:28</td>\n      <td>Wednesday</td>\n    </tr>\n    <tr>\n      <th>54133</th>\n      <td>D08D4A55</td>\n      <td>Maybe One Day (feat. Black Spade)</td>\n      <td>Blu &amp; Exile</td>\n      <td>hip</td>\n      <td>Saint-Petersburg</td>\n      <td>10:00:00</td>\n      <td>Monday</td>\n    </tr>\n    <tr>\n      <th>54134</th>\n      <td>321D0506</td>\n      <td>Freight Train</td>\n      <td>Chas McDevitt</td>\n      <td>rock</td>\n      <td>Moscow</td>\n      <td>21:43:59</td>\n      <td>Friday</td>\n    </tr>\n    <tr>\n      <th>54135</th>\n      <td>3A64EF84</td>\n      <td>Tell Me Sweet Little Lies</td>\n      <td>Monica Lopez</td>\n      <td>country</td>\n      <td>Moscow</td>\n      <td>21:59:46</td>\n      <td>Friday</td>\n    </tr>\n  </tbody>\n</table>\n<p>54136 rows × 7 columns</p>\n</div>"
     },
     "execution_count": 41,
     "metadata": {},
     "output_type": "execute_result"
    }
   ],
   "source": [
    "data"
   ]
  },
  {
   "cell_type": "markdown",
   "id": "fb5c2af86f487327",
   "metadata": {
    "collapsed": false
   },
   "source": [
    "### Вывод: Все дубликаты были удалены "
   ]
  },
  {
   "cell_type": "markdown",
   "id": "67c925d9ebd4b856",
   "metadata": {
    "collapsed": false
   },
   "source": [
    "# Анализ Данных и получение результатов\n",
    "## Проверить гипотезы: \n",
    "1) Активность пользователей зависит от дня недели. Причём в Москве и Петербурге это проявляется по-разному.\n",
    "2) Утром в понедельник в Москве преобладают одни жанры музыки, а в Петербурге — другие. Это верно и для вечера пятницы.\n",
    "3) Москва и Петербург предпочитают разные жанры музыки. В Москве чаще слушают поп-музыку, в Петербурге — русский рэп."
   ]
  },
  {
   "cell_type": "markdown",
   "id": "78575f0bcf2392a9",
   "metadata": {
    "collapsed": false
   },
   "source": [
    "### Разделим наши данные на 2 под группы: Москва и Питер\n"
   ]
  },
  {
   "cell_type": "code",
   "execution_count": 42,
   "id": "f945a75636d0e0df",
   "metadata": {
    "collapsed": false,
    "ExecuteTime": {
     "end_time": "2024-05-16T06:18:41.950901500Z",
     "start_time": "2024-05-16T06:18:41.744451900Z"
    }
   },
   "outputs": [
    {
     "data": {
      "text/plain": "        user_id                     track_name                   artist  \\\n0      55204538    Delayed Because of Accident         Andreas Rönnberg   \n1      E2DC1FAE                    Soul People               Space Echo   \n2      4CB90AA5                           True             Roman Messer   \n3      F03E1C1F               Feeling This Way          Polina Griffith   \n4      BC5A3A29                   Gool la Mita      Shireen Abdul Wahab   \n...         ...                            ...                      ...   \n37718  C532021D         We Can Not Be Silenced                   Pänzer   \n37719  83A474E7  I Worship Only What You Bleed  The Black Dahlia Murder   \n37720  729CBB09                        My Name                   McLean   \n37721  321D0506                  Freight Train            Chas McDevitt   \n37722  3A64EF84      Tell Me Sweet Little Lies             Monica Lopez   \n\n         genre_name    city time_of_day        day  \n0              rock  Moscow    14:07:09     Friday  \n1             dance  Moscow    08:34:34     Monday  \n2             dance  Moscow    13:00:07  Wednesday  \n3             dance  Moscow    20:47:49  Wednesday  \n4             world  Moscow    14:08:42     Monday  \n...             ...     ...         ...        ...  \n37718  extrememetal  Moscow    08:38:24     Friday  \n37719  extrememetal  Moscow    21:07:12     Monday  \n37720           rnb  Moscow    13:32:28  Wednesday  \n37721          rock  Moscow    21:43:59     Friday  \n37722       country  Moscow    21:59:46     Friday  \n\n[37723 rows x 7 columns]",
      "text/html": "<div>\n<style scoped>\n    .dataframe tbody tr th:only-of-type {\n        vertical-align: middle;\n    }\n\n    .dataframe tbody tr th {\n        vertical-align: top;\n    }\n\n    .dataframe thead th {\n        text-align: right;\n    }\n</style>\n<table border=\"1\" class=\"dataframe\">\n  <thead>\n    <tr style=\"text-align: right;\">\n      <th></th>\n      <th>user_id</th>\n      <th>track_name</th>\n      <th>artist</th>\n      <th>genre_name</th>\n      <th>city</th>\n      <th>time_of_day</th>\n      <th>day</th>\n    </tr>\n  </thead>\n  <tbody>\n    <tr>\n      <th>0</th>\n      <td>55204538</td>\n      <td>Delayed Because of Accident</td>\n      <td>Andreas Rönnberg</td>\n      <td>rock</td>\n      <td>Moscow</td>\n      <td>14:07:09</td>\n      <td>Friday</td>\n    </tr>\n    <tr>\n      <th>1</th>\n      <td>E2DC1FAE</td>\n      <td>Soul People</td>\n      <td>Space Echo</td>\n      <td>dance</td>\n      <td>Moscow</td>\n      <td>08:34:34</td>\n      <td>Monday</td>\n    </tr>\n    <tr>\n      <th>2</th>\n      <td>4CB90AA5</td>\n      <td>True</td>\n      <td>Roman Messer</td>\n      <td>dance</td>\n      <td>Moscow</td>\n      <td>13:00:07</td>\n      <td>Wednesday</td>\n    </tr>\n    <tr>\n      <th>3</th>\n      <td>F03E1C1F</td>\n      <td>Feeling This Way</td>\n      <td>Polina Griffith</td>\n      <td>dance</td>\n      <td>Moscow</td>\n      <td>20:47:49</td>\n      <td>Wednesday</td>\n    </tr>\n    <tr>\n      <th>4</th>\n      <td>BC5A3A29</td>\n      <td>Gool la Mita</td>\n      <td>Shireen Abdul Wahab</td>\n      <td>world</td>\n      <td>Moscow</td>\n      <td>14:08:42</td>\n      <td>Monday</td>\n    </tr>\n    <tr>\n      <th>...</th>\n      <td>...</td>\n      <td>...</td>\n      <td>...</td>\n      <td>...</td>\n      <td>...</td>\n      <td>...</td>\n      <td>...</td>\n    </tr>\n    <tr>\n      <th>37718</th>\n      <td>C532021D</td>\n      <td>We Can Not Be Silenced</td>\n      <td>Pänzer</td>\n      <td>extrememetal</td>\n      <td>Moscow</td>\n      <td>08:38:24</td>\n      <td>Friday</td>\n    </tr>\n    <tr>\n      <th>37719</th>\n      <td>83A474E7</td>\n      <td>I Worship Only What You Bleed</td>\n      <td>The Black Dahlia Murder</td>\n      <td>extrememetal</td>\n      <td>Moscow</td>\n      <td>21:07:12</td>\n      <td>Monday</td>\n    </tr>\n    <tr>\n      <th>37720</th>\n      <td>729CBB09</td>\n      <td>My Name</td>\n      <td>McLean</td>\n      <td>rnb</td>\n      <td>Moscow</td>\n      <td>13:32:28</td>\n      <td>Wednesday</td>\n    </tr>\n    <tr>\n      <th>37721</th>\n      <td>321D0506</td>\n      <td>Freight Train</td>\n      <td>Chas McDevitt</td>\n      <td>rock</td>\n      <td>Moscow</td>\n      <td>21:43:59</td>\n      <td>Friday</td>\n    </tr>\n    <tr>\n      <th>37722</th>\n      <td>3A64EF84</td>\n      <td>Tell Me Sweet Little Lies</td>\n      <td>Monica Lopez</td>\n      <td>country</td>\n      <td>Moscow</td>\n      <td>21:59:46</td>\n      <td>Friday</td>\n    </tr>\n  </tbody>\n</table>\n<p>37723 rows × 7 columns</p>\n</div>"
     },
     "execution_count": 42,
     "metadata": {},
     "output_type": "execute_result"
    }
   ],
   "source": [
    "moscow_data = data[data[\"city\"] == \"Moscow\"].reset_index(drop=True)\n",
    "piter_data = data[data[\"city\"] == \"Saint-Petersburg\"].reset_index(drop=True)\n",
    "moscow_data\n"
   ]
  },
  {
   "cell_type": "markdown",
   "id": "3f4a575b1f5fe80b",
   "metadata": {
    "collapsed": false
   },
   "source": [
    "### Москва и Петербург предпочитают разные жанры музыки. В Москве чаще слушают поп-музыку, в Петербурге — русский рэп.\n",
    "\n",
    "#### Для проверки гипотезы достаточно найти самый популярный жанр в каждом городе и сверить с гипотезой"
   ]
  },
  {
   "cell_type": "code",
   "execution_count": 43,
   "id": "6c7554caf258c1d5",
   "metadata": {
    "collapsed": false,
    "ExecuteTime": {
     "end_time": "2024-05-16T06:18:42.015757200Z",
     "start_time": "2024-05-16T06:18:41.882083200Z"
    }
   },
   "outputs": [],
   "source": [
    "top_genre_moscow = moscow_data[\"genre_name\"].value_counts()\n",
    "top_genre_piter = piter_data[\"genre_name\"].value_counts()"
   ]
  },
  {
   "cell_type": "code",
   "execution_count": 52,
   "id": "4515ac359bbc4a01",
   "metadata": {
    "collapsed": false,
    "ExecuteTime": {
     "end_time": "2024-05-16T06:20:02.036743100Z",
     "start_time": "2024-05-16T06:20:02.018793600Z"
    }
   },
   "outputs": [
    {
     "data": {
      "text/plain": "genre_name\npop           5480\nrock          3810\ndance         3567\nelectronic    3342\nhip           1877\nName: count, dtype: int64"
     },
     "execution_count": 52,
     "metadata": {},
     "output_type": "execute_result"
    }
   ],
   "source": [
    "top_genre_moscow"
   ]
  },
  {
   "cell_type": "code",
   "execution_count": 53,
   "id": "2a6b5357f6d4c030",
   "metadata": {
    "collapsed": false,
    "ExecuteTime": {
     "end_time": "2024-05-16T06:20:04.752397600Z",
     "start_time": "2024-05-16T06:20:04.738435700Z"
    }
   },
   "outputs": [
    {
     "data": {
      "text/plain": "genre_name\npop           2259\nrock          1809\ndance         1557\nelectronic    1547\nhip            856\nName: count, dtype: int64"
     },
     "execution_count": 53,
     "metadata": {},
     "output_type": "execute_result"
    }
   ],
   "source": [
    "top_genre_piter"
   ]
  },
  {
   "cell_type": "markdown",
   "id": "cff1327ea9473539",
   "metadata": {
    "collapsed": false
   },
   "source": [
    "### Вывод: Гипотеза не верна. И в Москве, и в Питере самая популярная музыка это POP"
   ]
  },
  {
   "cell_type": "markdown",
   "id": "a1a696a32aef3348",
   "metadata": {
    "collapsed": false
   },
   "source": [
    "### Гипотеза: Утром в понедельник в Москве преобладают одни жанры музыки, а в Петербурге — другие. Это верно и для вечера пятницы.\n",
    "##### Для того чтобы проверить неё, достаточно выделить их по времени до 12 часов дня и посчитать какой жанр самый популярный"
   ]
  },
  {
   "cell_type": "code",
   "execution_count": 46,
   "id": "c31644952be74841",
   "metadata": {
    "collapsed": false,
    "ExecuteTime": {
     "end_time": "2024-05-16T06:18:42.796993300Z",
     "start_time": "2024-05-16T06:18:42.414975300Z"
    }
   },
   "outputs": [],
   "source": [
    "moscow_data[\"time_of_day\"] = pd.to_datetime(moscow_data[\"time_of_day\"], format=\"%H:%M:%S\")\n",
    "morning_list_moscow = moscow_data[moscow_data[\"time_of_day\"].dt.hour < 12]\n",
    "monday_list_moscow  = morning_list_moscow[morning_list_moscow[\"day\"] == \"Monday\"]\n",
    "\n",
    "evening_list_moscow = moscow_data[moscow_data[\"time_of_day\"].dt.hour > 18]\n",
    "friday_monday_moscow  = evening_list_moscow[evening_list_moscow[\"day\"] == \"Friday\"]\n",
    "\n",
    "morning_monday_top_genre_moscow = monday_list_moscow[\"genre_name\"].value_counts()\n",
    "evening_friday_top_genre_moscow = friday_monday_moscow[\"genre_name\"].value_counts()"
   ]
  },
  {
   "cell_type": "code",
   "execution_count": 47,
   "id": "3ac32f1f00db1692",
   "metadata": {
    "collapsed": false,
    "ExecuteTime": {
     "end_time": "2024-05-16T06:18:42.955083700Z",
     "start_time": "2024-05-16T06:18:42.793999900Z"
    }
   },
   "outputs": [],
   "source": [
    "piter_data[\"time_of_day\"] = pd.to_datetime(piter_data[\"time_of_day\"], format=\"%H:%M:%S\")\n",
    "morning_list_piter = piter_data[piter_data[\"time_of_day\"].dt.hour < 12]\n",
    "monday_list_piter  = morning_list_piter[morning_list_piter[\"day\"] == \"Monday\"]\n",
    "\n",
    "evening_list_piter = piter_data[piter_data[\"time_of_day\"].dt.hour > 18]\n",
    "friday_monday_piter  = evening_list_piter[evening_list_piter[\"day\"] == \"Friday\"]\n",
    "\n",
    "morning_monday_top_genre_piter = monday_list_piter[\"genre_name\"].value_counts()\n",
    "evening_friday_top_genre_piter = friday_monday_piter[\"genre_name\"].value_counts()"
   ]
  },
  {
   "cell_type": "code",
   "execution_count": 48,
   "id": "b6702854328180ca",
   "metadata": {
    "collapsed": false,
    "ExecuteTime": {
     "end_time": "2024-05-16T06:18:43.118994900Z",
     "start_time": "2024-05-16T06:18:42.951007700Z"
    }
   },
   "outputs": [
    {
     "data": {
      "text/plain": "genre_name\npop           240\nrock          208\nelectronic    199\ndance         177\nhip            83\nName: count, dtype: int64"
     },
     "execution_count": 48,
     "metadata": {},
     "output_type": "execute_result"
    }
   ],
   "source": [
    "evening_friday_top_genre_piter.head()"
   ]
  },
  {
   "cell_type": "code",
   "execution_count": 49,
   "id": "93d1dd691fc9e67a",
   "metadata": {
    "collapsed": false,
    "ExecuteTime": {
     "end_time": "2024-05-16T06:18:43.259997500Z",
     "start_time": "2024-05-16T06:18:43.123981100Z"
    }
   },
   "outputs": [
    {
     "data": {
      "text/plain": "genre_name\npop           670\nrock          502\nelectronic    426\ndance         397\nhip           255\nName: count, dtype: int64"
     },
     "execution_count": 49,
     "metadata": {},
     "output_type": "execute_result"
    }
   ],
   "source": [
    "evening_friday_top_genre_moscow.head()"
   ]
  },
  {
   "cell_type": "markdown",
   "id": "e35f353783d66cb2",
   "metadata": {
    "collapsed": false
   },
   "source": [
    "### Вывод: Гипотеза опровергнута так как все равно самые популярные жанры абсолютно совпадают"
   ]
  },
  {
   "cell_type": "markdown",
   "id": "dd90053313e40d1b",
   "metadata": {
    "collapsed": false
   },
   "source": [
    "### Проверим гипотезу: Активность пользователей зависит от дня недели. Причём в Москве и Петербурге это проявляется по-разному."
   ]
  },
  {
   "cell_type": "code",
   "execution_count": 50,
   "id": "2633e99f6e00650",
   "metadata": {
    "collapsed": false,
    "ExecuteTime": {
     "end_time": "2024-05-16T06:18:43.419623300Z",
     "start_time": "2024-05-16T06:18:43.261991100Z"
    }
   },
   "outputs": [
    {
     "data": {
      "text/plain": "         Day  Average Sessions\n0     Monday          1.288458\n1  Wednesday          1.287977\n2     Friday          1.291807",
      "text/html": "<div>\n<style scoped>\n    .dataframe tbody tr th:only-of-type {\n        vertical-align: middle;\n    }\n\n    .dataframe tbody tr th {\n        vertical-align: top;\n    }\n\n    .dataframe thead th {\n        text-align: right;\n    }\n</style>\n<table border=\"1\" class=\"dataframe\">\n  <thead>\n    <tr style=\"text-align: right;\">\n      <th></th>\n      <th>Day</th>\n      <th>Average Sessions</th>\n    </tr>\n  </thead>\n  <tbody>\n    <tr>\n      <th>0</th>\n      <td>Monday</td>\n      <td>1.288458</td>\n    </tr>\n    <tr>\n      <th>1</th>\n      <td>Wednesday</td>\n      <td>1.287977</td>\n    </tr>\n    <tr>\n      <th>2</th>\n      <td>Friday</td>\n      <td>1.291807</td>\n    </tr>\n  </tbody>\n</table>\n</div>"
     },
     "execution_count": 50,
     "metadata": {},
     "output_type": "execute_result"
    }
   ],
   "source": [
    "monday_moscow_data = moscow_data[moscow_data[\"day\"] == \"Monday\"]\n",
    "wednesday_moscow_data = moscow_data[moscow_data[\"day\"] == \"Wednesday\"]\n",
    "friday_moscow_data = moscow_data[moscow_data[\"day\"] == \"Friday\"]\n",
    "\n",
    "count_users_moscow_monday = monday_moscow_data[\"user_id\"].unique().__len__()\n",
    "count_session_moscow_monday = monday_moscow_data[\"user_id\"].__len__()\n",
    "\n",
    "count_users_moscow_wednesday = wednesday_moscow_data[\"user_id\"].unique().__len__()\n",
    "count_session_moscow_wednesday = wednesday_moscow_data[\"user_id\"].__len__()\n",
    "\n",
    "count_users_moscow_friday = friday_moscow_data[\"user_id\"].unique().__len__()\n",
    "count_session_moscow_friday = friday_moscow_data[\"user_id\"].__len__()\n",
    "\n",
    "average_session_moscow_monday = count_session_moscow_monday / count_users_moscow_monday\n",
    "average_session_moscow_wednesday = count_session_moscow_wednesday / count_users_moscow_wednesday\n",
    "average_session_moscow_friday = count_session_moscow_friday / count_users_moscow_friday\n",
    "\n",
    "result_average_session_moscow = pd.DataFrame({\"Day\": ['Monday', 'Wednesday', 'Friday'], \n",
    "                                              \"Average Sessions\": [average_session_moscow_monday, \n",
    "                                                                   average_session_moscow_wednesday, \n",
    "                                                                   average_session_moscow_friday]})\n",
    "result_average_session_moscow\n"
   ]
  },
  {
   "cell_type": "code",
   "execution_count": 51,
   "id": "27f94e9bcb35d9d3",
   "metadata": {
    "collapsed": false,
    "ExecuteTime": {
     "end_time": "2024-05-16T06:18:43.568021700Z",
     "start_time": "2024-05-16T06:18:43.420621Z"
    }
   },
   "outputs": [
    {
     "data": {
      "text/plain": "         Day  Average Sessions\n0     Monday          1.296092\n1  Wednesday          1.315222\n2     Friday          1.289609",
      "text/html": "<div>\n<style scoped>\n    .dataframe tbody tr th:only-of-type {\n        vertical-align: middle;\n    }\n\n    .dataframe tbody tr th {\n        vertical-align: top;\n    }\n\n    .dataframe thead th {\n        text-align: right;\n    }\n</style>\n<table border=\"1\" class=\"dataframe\">\n  <thead>\n    <tr style=\"text-align: right;\">\n      <th></th>\n      <th>Day</th>\n      <th>Average Sessions</th>\n    </tr>\n  </thead>\n  <tbody>\n    <tr>\n      <th>0</th>\n      <td>Monday</td>\n      <td>1.296092</td>\n    </tr>\n    <tr>\n      <th>1</th>\n      <td>Wednesday</td>\n      <td>1.315222</td>\n    </tr>\n    <tr>\n      <th>2</th>\n      <td>Friday</td>\n      <td>1.289609</td>\n    </tr>\n  </tbody>\n</table>\n</div>"
     },
     "execution_count": 51,
     "metadata": {},
     "output_type": "execute_result"
    }
   ],
   "source": [
    "monday_piter_data = piter_data[piter_data[\"day\"] == \"Monday\"]\n",
    "wednesday_piter_data = piter_data[piter_data[\"day\"] == \"Wednesday\"]\n",
    "friday_piter_data = piter_data[piter_data[\"day\"] == \"Friday\"]\n",
    "\n",
    "count_users_piter_monday = monday_piter_data[\"user_id\"].unique().__len__()\n",
    "count_session_piter_monday = monday_piter_data[\"user_id\"].__len__()\n",
    "\n",
    "count_users_piter_wednesday = wednesday_piter_data[\"user_id\"].unique().__len__()\n",
    "count_session_piter_wednesday = wednesday_piter_data[\"user_id\"].__len__()\n",
    "\n",
    "count_users_piter_friday = friday_piter_data[\"user_id\"].unique().__len__()\n",
    "count_session_piter_friday = friday_piter_data[\"user_id\"].__len__()\n",
    "\n",
    "average_session_piter_monday = count_session_piter_monday / count_users_piter_monday\n",
    "average_session_piter_wednesday = count_session_piter_wednesday / count_users_piter_wednesday\n",
    "average_session_piter_friday = count_session_piter_friday / count_users_piter_friday\n",
    "\n",
    "result_average_session_piter = pd.DataFrame({\"Day\": ['Monday', 'Wednesday', 'Friday'], \n",
    "                                              \"Average Sessions\": [average_session_piter_monday, \n",
    "                                                                   average_session_piter_wednesday, \n",
    "                                                                   average_session_piter_friday]})\n",
    "result_average_session_piter"
   ]
  },
  {
   "cell_type": "markdown",
   "id": "ca599ccd801a3ca1",
   "metadata": {
    "collapsed": false
   },
   "source": [
    "### Вывод: Гипотеза опровергнута. Разница присутствует с точностью до сотой, а следовательно не более чем погрешность. "
   ]
  },
  {
   "cell_type": "code",
   "execution_count": 51,
   "id": "65a759d75af79c03",
   "metadata": {
    "collapsed": false,
    "ExecuteTime": {
     "end_time": "2024-05-16T06:18:43.570015200Z",
     "start_time": "2024-05-16T06:18:43.545082200Z"
    }
   },
   "outputs": [],
   "source": []
  }
 ],
 "metadata": {
  "kernelspec": {
   "display_name": "Python 3 (ipykernel)",
   "language": "python",
   "name": "python3"
  },
  "language_info": {
   "codemirror_mode": {
    "name": "ipython",
    "version": 3
   },
   "file_extension": ".py",
   "mimetype": "text/x-python",
   "name": "python",
   "nbconvert_exporter": "python",
   "pygments_lexer": "ipython3",
   "version": "3.9.13"
  }
 },
 "nbformat": 4,
 "nbformat_minor": 5
}
